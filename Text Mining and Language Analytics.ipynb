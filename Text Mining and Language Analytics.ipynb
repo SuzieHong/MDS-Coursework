{
 "cells": [
  {
   "cell_type": "markdown",
   "metadata": {
    "deletable": false,
    "editable": false,
    "nbgrader": {
     "cell_type": "markdown",
     "checksum": "068e2a188a6a3db5c142be9d8afbb053",
     "grade": false,
     "grade_id": "cell-7f0204ddaabf431f",
     "locked": true,
     "schema_version": 3,
     "solution": false,
     "task": false
    }
   },
   "source": [
    "## Implementation - Task 1\n",
    "Prepare the dataset by applying any pre-processing or cleaning steps that you consider as necessary. Then, split the dataset into a training set containing 70% of the samples and a test set containing 30% of the samples. Follow an appropriate strategy for the split. You must use these training/test sets for all the models in this coursework."
   ]
  },
  {
   "cell_type": "code",
   "execution_count": 2,
   "metadata": {
    "deletable": false,
    "nbgrader": {
     "cell_type": "code",
     "checksum": "9d8184a650c6efb613adc101bb08baf9",
     "grade": true,
     "grade_id": "cell-1ec6ac90f0506a35",
     "locked": false,
     "points": 10,
     "schema_version": 3,
     "solution": true,
     "task": false
    },
    "scrolled": false
   },
   "outputs": [
    {
     "name": "stderr",
     "output_type": "stream",
     "text": [
      "<ipython-input-2-50a99159b848>:2: DeprecationWarning: \n",
      "Pyarrow will become a required dependency of pandas in the next major release of pandas (pandas 3.0),\n",
      "(to allow more performant data types, such as the Arrow string type, and better interoperability with other libraries)\n",
      "but was not found to be installed on your system.\n",
      "If this would cause problems for you,\n",
      "please provide us feedback at https://github.com/pandas-dev/pandas/issues/54466\n",
      "        \n",
      "  import pandas as pd\n"
     ]
    },
    {
     "data": {
      "text/html": [
       "<div>\n",
       "<style scoped>\n",
       "    .dataframe tbody tr th:only-of-type {\n",
       "        vertical-align: middle;\n",
       "    }\n",
       "\n",
       "    .dataframe tbody tr th {\n",
       "        vertical-align: top;\n",
       "    }\n",
       "\n",
       "    .dataframe thead th {\n",
       "        text-align: right;\n",
       "    }\n",
       "</style>\n",
       "<table border=\"1\" class=\"dataframe\">\n",
       "  <thead>\n",
       "    <tr style=\"text-align: right;\">\n",
       "      <th></th>\n",
       "      <th>Score</th>\n",
       "      <th>Summary</th>\n",
       "      <th>Text</th>\n",
       "    </tr>\n",
       "  </thead>\n",
       "  <tbody>\n",
       "    <tr>\n",
       "      <th>0</th>\n",
       "      <td>5</td>\n",
       "      <td>three cheese</td>\n",
       "      <td>really good three cheese potatoes great with h...</td>\n",
       "    </tr>\n",
       "    <tr>\n",
       "      <th>1</th>\n",
       "      <td>5</td>\n",
       "      <td>Coffee  ***UPDATE*** added</td>\n",
       "      <td>I love coffee, and a particular fantasy of min...</td>\n",
       "    </tr>\n",
       "    <tr>\n",
       "      <th>2</th>\n",
       "      <td>5</td>\n",
       "      <td>Delicious cocoa for grown ups!</td>\n",
       "      <td>This is not sugary sweet hot chocolate, nor is...</td>\n",
       "    </tr>\n",
       "    <tr>\n",
       "      <th>3</th>\n",
       "      <td>5</td>\n",
       "      <td>Really Good Fresh Murray's Sugar-Free Shortbread</td>\n",
       "      <td>These cookies arrived quickly and are in great...</td>\n",
       "    </tr>\n",
       "    <tr>\n",
       "      <th>4</th>\n",
       "      <td>3</td>\n",
       "      <td>OK Coffee</td>\n",
       "      <td>This is decent coffee. Nothing special. It is ...</td>\n",
       "    </tr>\n",
       "  </tbody>\n",
       "</table>\n",
       "</div>"
      ],
      "text/plain": [
       "   Score                                           Summary  \\\n",
       "0      5                                      three cheese   \n",
       "1      5                        Coffee  ***UPDATE*** added   \n",
       "2      5                    Delicious cocoa for grown ups!   \n",
       "3      5  Really Good Fresh Murray's Sugar-Free Shortbread   \n",
       "4      3                                         OK Coffee   \n",
       "\n",
       "                                                Text  \n",
       "0  really good three cheese potatoes great with h...  \n",
       "1  I love coffee, and a particular fantasy of min...  \n",
       "2  This is not sugary sweet hot chocolate, nor is...  \n",
       "3  These cookies arrived quickly and are in great...  \n",
       "4  This is decent coffee. Nothing special. It is ...  "
      ]
     },
     "execution_count": 2,
     "metadata": {},
     "output_type": "execute_result"
    }
   ],
   "source": [
    "import numpy as np\n",
    "import pandas as pd\n",
    "\n",
    "df = pd.read_csv('food_reviews.csv', low_memory=False)\n",
    "df.head(5)"
   ]
  },
  {
   "cell_type": "code",
   "execution_count": 3,
   "metadata": {},
   "outputs": [
    {
     "name": "stdout",
     "output_type": "stream",
     "text": [
      "<class 'pandas.core.frame.DataFrame'>\n",
      "RangeIndex: 540031 entries, 0 to 540030\n",
      "Data columns (total 3 columns):\n",
      " #   Column   Non-Null Count   Dtype \n",
      "---  ------   --------------   ----- \n",
      " 0   Score    540031 non-null  int64 \n",
      " 1   Summary  540004 non-null  object\n",
      " 2   Text     540031 non-null  object\n",
      "dtypes: int64(1), object(2)\n",
      "memory usage: 12.4+ MB\n"
     ]
    }
   ],
   "source": [
    "df.info()"
   ]
  },
  {
   "cell_type": "code",
   "execution_count": 4,
   "metadata": {},
   "outputs": [
    {
     "data": {
      "text/plain": [
       "Score       0\n",
       "Summary    27\n",
       "Text        0\n",
       "dtype: int64"
      ]
     },
     "execution_count": 4,
     "metadata": {},
     "output_type": "execute_result"
    }
   ],
   "source": [
    "df.isna().sum()"
   ]
  },
  {
   "cell_type": "code",
   "execution_count": 5,
   "metadata": {},
   "outputs": [
    {
     "data": {
      "text/html": [
       "<div>\n",
       "<style scoped>\n",
       "    .dataframe tbody tr th:only-of-type {\n",
       "        vertical-align: middle;\n",
       "    }\n",
       "\n",
       "    .dataframe tbody tr th {\n",
       "        vertical-align: top;\n",
       "    }\n",
       "\n",
       "    .dataframe thead th {\n",
       "        text-align: right;\n",
       "    }\n",
       "</style>\n",
       "<table border=\"1\" class=\"dataframe\">\n",
       "  <thead>\n",
       "    <tr style=\"text-align: right;\">\n",
       "      <th></th>\n",
       "      <th>Text</th>\n",
       "      <th>Score</th>\n",
       "    </tr>\n",
       "  </thead>\n",
       "  <tbody>\n",
       "    <tr>\n",
       "      <th>0</th>\n",
       "      <td>really good three cheese potatoes great with h...</td>\n",
       "      <td>5</td>\n",
       "    </tr>\n",
       "    <tr>\n",
       "      <th>1</th>\n",
       "      <td>I love coffee, and a particular fantasy of min...</td>\n",
       "      <td>5</td>\n",
       "    </tr>\n",
       "    <tr>\n",
       "      <th>2</th>\n",
       "      <td>This is not sugary sweet hot chocolate, nor is...</td>\n",
       "      <td>5</td>\n",
       "    </tr>\n",
       "    <tr>\n",
       "      <th>3</th>\n",
       "      <td>These cookies arrived quickly and are in great...</td>\n",
       "      <td>5</td>\n",
       "    </tr>\n",
       "    <tr>\n",
       "      <th>4</th>\n",
       "      <td>This is decent coffee. Nothing special. It is ...</td>\n",
       "      <td>3</td>\n",
       "    </tr>\n",
       "    <tr>\n",
       "      <th>...</th>\n",
       "      <td>...</td>\n",
       "      <td>...</td>\n",
       "    </tr>\n",
       "    <tr>\n",
       "      <th>540026</th>\n",
       "      <td>I loike coffee but when camping I do not have ...</td>\n",
       "      <td>5</td>\n",
       "    </tr>\n",
       "    <tr>\n",
       "      <th>540027</th>\n",
       "      <td>I don't cook much, but I have a breadmaker and...</td>\n",
       "      <td>5</td>\n",
       "    </tr>\n",
       "    <tr>\n",
       "      <th>540028</th>\n",
       "      <td>if you want a healthy treat and one that is ve...</td>\n",
       "      <td>5</td>\n",
       "    </tr>\n",
       "    <tr>\n",
       "      <th>540029</th>\n",
       "      <td>These biscuits satisfy an urge for a sweet tre...</td>\n",
       "      <td>5</td>\n",
       "    </tr>\n",
       "    <tr>\n",
       "      <th>540030</th>\n",
       "      <td>This may be TMI, but my cat tends to suffer fr...</td>\n",
       "      <td>5</td>\n",
       "    </tr>\n",
       "  </tbody>\n",
       "</table>\n",
       "<p>540031 rows × 2 columns</p>\n",
       "</div>"
      ],
      "text/plain": [
       "                                                     Text  Score\n",
       "0       really good three cheese potatoes great with h...      5\n",
       "1       I love coffee, and a particular fantasy of min...      5\n",
       "2       This is not sugary sweet hot chocolate, nor is...      5\n",
       "3       These cookies arrived quickly and are in great...      5\n",
       "4       This is decent coffee. Nothing special. It is ...      3\n",
       "...                                                   ...    ...\n",
       "540026  I loike coffee but when camping I do not have ...      5\n",
       "540027  I don't cook much, but I have a breadmaker and...      5\n",
       "540028  if you want a healthy treat and one that is ve...      5\n",
       "540029  These biscuits satisfy an urge for a sweet tre...      5\n",
       "540030  This may be TMI, but my cat tends to suffer fr...      5\n",
       "\n",
       "[540031 rows x 2 columns]"
      ]
     },
     "execution_count": 5,
     "metadata": {},
     "output_type": "execute_result"
    }
   ],
   "source": [
    "df.drop(labels=['Summary'], axis=1, inplace=True)\n",
    "df = df[['Text', 'Score']]\n",
    "df"
   ]
  },
  {
   "cell_type": "code",
   "execution_count": 6,
   "metadata": {},
   "outputs": [
    {
     "data": {
      "text/plain": [
       "<Axes: xlabel='Score', ylabel='count'>"
      ]
     },
     "execution_count": 6,
     "metadata": {},
     "output_type": "execute_result"
    },
    {
     "data": {
      "image/png": "[encoded data removed]",
      "text/plain": [
       "<Figure size 432x288 with 1 Axes>"
      ]
     },
     "metadata": {
      "needs_background": "light"
     },
     "output_type": "display_data"
    }
   ],
   "source": [
    "import seaborn as sns\n",
    "\n",
    "sns.countplot(x=\"Score\", data=df)"
   ]
  },
  {
   "cell_type": "code",
   "execution_count": 7,
   "metadata": {},
   "outputs": [],
   "source": [
    "from sklearn.utils import resample\n",
    "\n",
    "score1 = df[df['Score']==1]\n",
    "score2 = df[df['Score']==2]\n",
    "score3 = df[df['Score']==3]\n",
    "score4 = df[df['Score']==4]\n",
    "score5 = df[df['Score']==5]\n",
    "\n",
    "score1_sampling = resample(score1, random_state=42, replace=True, n_samples=2000)\n",
    "score2_sampling = resample(score2, random_state=42, replace=True, n_samples=2000)\n",
    "score3_sampling = resample(score3, random_state=42, replace=True, n_samples=2000)\n",
    "score4_sampling = resample(score4, random_state=42, replace=True, n_samples=2000)\n",
    "score5_sampling = resample(score5, random_state=42, replace=True, n_samples=2000)"
   ]
  },
  {
   "cell_type": "code",
   "execution_count": 8,
   "metadata": {},
   "outputs": [
    {
     "data": {
      "text/html": [
       "<div>\n",
       "<style scoped>\n",
       "    .dataframe tbody tr th:only-of-type {\n",
       "        vertical-align: middle;\n",
       "    }\n",
       "\n",
       "    .dataframe tbody tr th {\n",
       "        vertical-align: top;\n",
       "    }\n",
       "\n",
       "    .dataframe thead th {\n",
       "        text-align: right;\n",
       "    }\n",
       "</style>\n",
       "<table border=\"1\" class=\"dataframe\">\n",
       "  <thead>\n",
       "    <tr style=\"text-align: right;\">\n",
       "      <th></th>\n",
       "      <th>Text</th>\n",
       "      <th>Score</th>\n",
       "    </tr>\n",
       "  </thead>\n",
       "  <tbody>\n",
       "    <tr>\n",
       "      <th>0</th>\n",
       "      <td>Have had the other flavors , this tastes the w...</td>\n",
       "      <td>1</td>\n",
       "    </tr>\n",
       "    <tr>\n",
       "      <th>1</th>\n",
       "      <td>Love the Chai tea taste. Love the ease of use ...</td>\n",
       "      <td>1</td>\n",
       "    </tr>\n",
       "    <tr>\n",
       "      <th>2</th>\n",
       "      <td>I have ordered the SnackMasters Salmon Jerky a...</td>\n",
       "      <td>1</td>\n",
       "    </tr>\n",
       "    <tr>\n",
       "      <th>3</th>\n",
       "      <td>Each person has their acquired taste for Chili...</td>\n",
       "      <td>1</td>\n",
       "    </tr>\n",
       "    <tr>\n",
       "      <th>4</th>\n",
       "      <td>My family is very sensitive to everything.  Lo...</td>\n",
       "      <td>1</td>\n",
       "    </tr>\n",
       "    <tr>\n",
       "      <th>...</th>\n",
       "      <td>...</td>\n",
       "      <td>...</td>\n",
       "    </tr>\n",
       "    <tr>\n",
       "      <th>9995</th>\n",
       "      <td>I love my Keurig and I wanted to try a new cof...</td>\n",
       "      <td>5</td>\n",
       "    </tr>\n",
       "    <tr>\n",
       "      <th>9996</th>\n",
       "      <td>These chews are among some of my Westie's favo...</td>\n",
       "      <td>5</td>\n",
       "    </tr>\n",
       "    <tr>\n",
       "      <th>9997</th>\n",
       "      <td>the aroma is amazing, like a walk in my rose g...</td>\n",
       "      <td>5</td>\n",
       "    </tr>\n",
       "    <tr>\n",
       "      <th>9998</th>\n",
       "      <td>I have long loved this hot cocoa but each year...</td>\n",
       "      <td>5</td>\n",
       "    </tr>\n",
       "    <tr>\n",
       "      <th>9999</th>\n",
       "      <td>This is my favorite brand of Earl Grey. This a...</td>\n",
       "      <td>5</td>\n",
       "    </tr>\n",
       "  </tbody>\n",
       "</table>\n",
       "<p>10000 rows × 2 columns</p>\n",
       "</div>"
      ],
      "text/plain": [
       "                                                   Text  Score\n",
       "0     Have had the other flavors , this tastes the w...      1\n",
       "1     Love the Chai tea taste. Love the ease of use ...      1\n",
       "2     I have ordered the SnackMasters Salmon Jerky a...      1\n",
       "3     Each person has their acquired taste for Chili...      1\n",
       "4     My family is very sensitive to everything.  Lo...      1\n",
       "...                                                 ...    ...\n",
       "9995  I love my Keurig and I wanted to try a new cof...      5\n",
       "9996  These chews are among some of my Westie's favo...      5\n",
       "9997  the aroma is amazing, like a walk in my rose g...      5\n",
       "9998  I have long loved this hot cocoa but each year...      5\n",
       "9999  This is my favorite brand of Earl Grey. This a...      5\n",
       "\n",
       "[10000 rows x 2 columns]"
      ]
     },
     "execution_count": 8,
     "metadata": {},
     "output_type": "execute_result"
    }
   ],
   "source": [
    "df = pd.concat([score1_sampling, score2_sampling, score3_sampling, score4_sampling, score5_sampling])\n",
    "df = df.reset_index(drop=True)\n",
    "df"
   ]
  },
  {
   "cell_type": "code",
   "execution_count": 9,
   "metadata": {},
   "outputs": [
    {
     "data": {
      "text/plain": [
       "<Axes: xlabel='Score', ylabel='count'>"
      ]
     },
     "execution_count": 9,
     "metadata": {},
     "output_type": "execute_result"
    },
    {
     "data": {
      "image/png": "[encoded data removed]",
      "text/plain": [
       "<Figure size 432x288 with 1 Axes>"
      ]
     },
     "metadata": {
      "needs_background": "light"
     },
     "output_type": "display_data"
    }
   ],
   "source": [
    "sns.countplot(x=\"Score\", data=df)"
   ]
  },
  {
   "cell_type": "code",
   "execution_count": 10,
   "metadata": {},
   "outputs": [
    {
     "name": "stderr",
     "output_type": "stream",
     "text": [
      "[nltk_data] Downloading package stopwords to\n",
      "[nltk_data]     /home3/vhww25/nltk_data...\n",
      "[nltk_data]   Package stopwords is already up-to-date!\n"
     ]
    }
   ],
   "source": [
    "import re\n",
    "import nltk as nlp\n",
    "from nltk.corpus import stopwords\n",
    "from nltk.stem.porter import PorterStemmer\n",
    "\n",
    "nlp.download('stopwords')\n",
    "corpus = []\n",
    "\n",
    "for i in range(0, len(df['Text'])):\n",
    "    review = re.sub('[^a-zA-Z]', ' ', df['Text'][i])\n",
    "    review = review.lower()\n",
    "    review = review.split()\n",
    "    all_stopwords = stopwords.words('english')\n",
    "    all_stopwords.remove('not')\n",
    "    all_stopwords.remove('no')\n",
    "    all_stopwords.remove('but')\n",
    "    all_stopwords.remove(\"won't\")\n",
    "    lemma = nlp.WordNetLemmatizer()\n",
    "    review = [lemma.lemmatize(word) for word in review if not word in set(all_stopwords)]\n",
    "    review = ' '.join(review)\n",
    "    corpus.append(review)"
   ]
  },
  {
   "cell_type": "code",
   "execution_count": 11,
   "metadata": {},
   "outputs": [],
   "source": [
    "from sklearn.model_selection import train_test_split\n",
    "X = df[\"Text\"].values\n",
    "y = df[\"Score\"].values\n",
    "X_train, X_test, y_train, y_test = train_test_split(X, y, test_size=0.30, random_state=42)"
   ]
  },
  {
   "cell_type": "markdown",
   "metadata": {
    "deletable": false,
    "editable": false,
    "nbgrader": {
     "cell_type": "markdown",
     "checksum": "cee84be8ff5d30b3cc777f43b92b5b69",
     "grade": false,
     "grade_id": "cell-b691a7bc111d2ca5",
     "locked": true,
     "schema_version": 3,
     "solution": false,
     "task": false
    }
   },
   "source": [
    "## Implementation - Task 2\n",
    "Implement a Naïve Bayes model for predicting the rating of a food review. Train your model on the training set and test it on the test set. Use an appropriate text representation."
   ]
  },
  {
   "cell_type": "code",
   "execution_count": 12,
   "metadata": {
    "deletable": false,
    "nbgrader": {
     "cell_type": "code",
     "checksum": "638739c81d3d084fbcc8233bbecb6b02",
     "grade": true,
     "grade_id": "cell-c7228a828210126a",
     "locked": false,
     "points": 5,
     "schema_version": 3,
     "solution": true,
     "task": false
    }
   },
   "outputs": [
    {
     "data": {
      "text/html": [
       "<style>#sk-container-id-1 {\n",
       "  /* Definition of color scheme common for light and dark mode */\n",
       "  --sklearn-color-text: black;\n",
       "  --sklearn-color-line: gray;\n",
       "  /* Definition of color scheme for unfitted estimators */\n",
       "  --sklearn-color-unfitted-level-0: #fff5e6;\n",
       "  --sklearn-color-unfitted-level-1: #f6e4d2;\n",
       "  --sklearn-color-unfitted-level-2: #ffe0b3;\n",
       "  --sklearn-color-unfitted-level-3: chocolate;\n",
       "  /* Definition of color scheme for fitted estimators */\n",
       "  --sklearn-color-fitted-level-0: #f0f8ff;\n",
       "  --sklearn-color-fitted-level-1: #d4ebff;\n",
       "  --sklearn-color-fitted-level-2: #b3dbfd;\n",
       "  --sklearn-color-fitted-level-3: cornflowerblue;\n",
       "\n",
       "  /* Specific color for light theme */\n",
       "  --sklearn-color-text-on-default-background: var(--sg-text-color, var(--theme-code-foreground, var(--jp-content-font-color1, black)));\n",
       "  --sklearn-color-background: var(--sg-background-color, var(--theme-background, var(--jp-layout-color0, white)));\n",
       "  --sklearn-color-border-box: var(--sg-text-color, var(--theme-code-foreground, var(--jp-content-font-color1, black)));\n",
       "  --sklearn-color-icon: #696969;\n",
       "\n",
       "  @media (prefers-color-scheme: dark) {\n",
       "    /* Redefinition of color scheme for dark theme */\n",
       "    --sklearn-color-text-on-default-background: var(--sg-text-color, var(--theme-code-foreground, var(--jp-content-font-color1, white)));\n",
       "    --sklearn-color-background: var(--sg-background-color, var(--theme-background, var(--jp-layout-color0, #111)));\n",
       "    --sklearn-color-border-box: var(--sg-text-color, var(--theme-code-foreground, var(--jp-content-font-color1, white)));\n",
       "    --sklearn-color-icon: #878787;\n",
       "  }\n",
       "}\n",
       "\n",
       "#sk-container-id-1 {\n",
       "  color: var(--sklearn-color-text);\n",
       "}\n",
       "\n",
       "#sk-container-id-1 pre {\n",
       "  padding: 0;\n",
       "}\n",
       "\n",
       "#sk-container-id-1 input.sk-hidden--visually {\n",
       "  border: 0;\n",
       "  clip: rect(1px 1px 1px 1px);\n",
       "  clip: rect(1px, 1px, 1px, 1px);\n",
       "  height: 1px;\n",
       "  margin: -1px;\n",
       "  overflow: hidden;\n",
       "  padding: 0;\n",
       "  position: absolute;\n",
       "  width: 1px;\n",
       "}\n",
       "\n",
       "#sk-container-id-1 div.sk-dashed-wrapped {\n",
       "  border: 1px dashed var(--sklearn-color-line);\n",
       "  margin: 0 0.4em 0.5em 0.4em;\n",
       "  box-sizing: border-box;\n",
       "  padding-bottom: 0.4em;\n",
       "  background-color: var(--sklearn-color-background);\n",
       "}\n",
       "\n",
       "#sk-container-id-1 div.sk-container {\n",
       "  /* jupyter's `normalize.less` sets `[hidden] { display: none; }`\n",
       "     but bootstrap.min.css set `[hidden] { display: none !important; }`\n",
       "     so we also need the `!important` here to be able to override the\n",
       "     default hidden behavior on the sphinx rendered scikit-learn.org.\n",
       "     See: https://github.com/scikit-learn/scikit-learn/issues/21755 */\n",
       "  display: inline-block !important;\n",
       "  position: relative;\n",
       "}\n",
       "\n",
       "#sk-container-id-1 div.sk-text-repr-fallback {\n",
       "  display: none;\n",
       "}\n",
       "\n",
       "div.sk-parallel-item,\n",
       "div.sk-serial,\n",
       "div.sk-item {\n",
       "  /* draw centered vertical line to link estimators */\n",
       "  background-image: linear-gradient(var(--sklearn-color-text-on-default-background), var(--sklearn-color-text-on-default-background));\n",
       "  background-size: 2px 100%;\n",
       "  background-repeat: no-repeat;\n",
       "  background-position: center center;\n",
       "}\n",
       "\n",
       "/* Parallel-specific style estimator block */\n",
       "\n",
       "#sk-container-id-1 div.sk-parallel-item::after {\n",
       "  content: \"\";\n",
       "  width: 100%;\n",
       "  border-bottom: 2px solid var(--sklearn-color-text-on-default-background);\n",
       "  flex-grow: 1;\n",
       "}\n",
       "\n",
       "#sk-container-id-1 div.sk-parallel {\n",
       "  display: flex;\n",
       "  align-items: stretch;\n",
       "  justify-content: center;\n",
       "  background-color: var(--sklearn-color-background);\n",
       "  position: relative;\n",
       "}\n",
       "\n",
       "#sk-container-id-1 div.sk-parallel-item {\n",
       "  display: flex;\n",
       "  flex-direction: column;\n",
       "}\n",
       "\n",
       "#sk-container-id-1 div.sk-parallel-item:first-child::after {\n",
       "  align-self: flex-end;\n",
       "  width: 50%;\n",
       "}\n",
       "\n",
       "#sk-container-id-1 div.sk-parallel-item:last-child::after {\n",
       "  align-self: flex-start;\n",
       "  width: 50%;\n",
       "}\n",
       "\n",
       "#sk-container-id-1 div.sk-parallel-item:only-child::after {\n",
       "  width: 0;\n",
       "}\n",
       "\n",
       "/* Serial-specific style estimator block */\n",
       "\n",
       "#sk-container-id-1 div.sk-serial {\n",
       "  display: flex;\n",
       "  flex-direction: column;\n",
       "  align-items: center;\n",
       "  background-color: var(--sklearn-color-background);\n",
       "  padding-right: 1em;\n",
       "  padding-left: 1em;\n",
       "}\n",
       "\n",
       "\n",
       "/* Toggleable style: style used for estimator/Pipeline/ColumnTransformer box that is\n",
       "clickable and can be expanded/collapsed.\n",
       "- Pipeline and ColumnTransformer use this feature and define the default style\n",
       "- Estimators will overwrite some part of the style using the `sk-estimator` class\n",
       "*/\n",
       "\n",
       "/* Pipeline and ColumnTransformer style (default) */\n",
       "\n",
       "#sk-container-id-1 div.sk-toggleable {\n",
       "  /* Default theme specific background. It is overwritten whether we have a\n",
       "  specific estimator or a Pipeline/ColumnTransformer */\n",
       "  background-color: var(--sklearn-color-background);\n",
       "}\n",
       "\n",
       "/* Toggleable label */\n",
       "#sk-container-id-1 label.sk-toggleable__label {\n",
       "  cursor: pointer;\n",
       "  display: block;\n",
       "  width: 100%;\n",
       "  margin-bottom: 0;\n",
       "  padding: 0.5em;\n",
       "  box-sizing: border-box;\n",
       "  text-align: center;\n",
       "}\n",
       "\n",
       "#sk-container-id-1 label.sk-toggleable__label-arrow:before {\n",
       "  /* Arrow on the left of the label */\n",
       "  content: \"▸\";\n",
       "  float: left;\n",
       "  margin-right: 0.25em;\n",
       "  color: var(--sklearn-color-icon);\n",
       "}\n",
       "\n",
       "#sk-container-id-1 label.sk-toggleable__label-arrow:hover:before {\n",
       "  color: var(--sklearn-color-text);\n",
       "}\n",
       "\n",
       "/* Toggleable content - dropdown */\n",
       "\n",
       "#sk-container-id-1 div.sk-toggleable__content {\n",
       "  max-height: 0;\n",
       "  max-width: 0;\n",
       "  overflow: hidden;\n",
       "  text-align: left;\n",
       "  /* unfitted */\n",
       "  background-color: var(--sklearn-color-unfitted-level-0);\n",
       "}\n",
       "\n",
       "#sk-container-id-1 div.sk-toggleable__content.fitted {\n",
       "  /* fitted */\n",
       "  background-color: var(--sklearn-color-fitted-level-0);\n",
       "}\n",
       "\n",
       "#sk-container-id-1 div.sk-toggleable__content pre {\n",
       "  margin: 0.2em;\n",
       "  border-radius: 0.25em;\n",
       "  color: var(--sklearn-color-text);\n",
       "  /* unfitted */\n",
       "  background-color: var(--sklearn-color-unfitted-level-0);\n",
       "}\n",
       "\n",
       "#sk-container-id-1 div.sk-toggleable__content.fitted pre {\n",
       "  /* unfitted */\n",
       "  background-color: var(--sklearn-color-fitted-level-0);\n",
       "}\n",
       "\n",
       "#sk-container-id-1 input.sk-toggleable__control:checked~div.sk-toggleable__content {\n",
       "  /* Expand drop-down */\n",
       "  max-height: 200px;\n",
       "  max-width: 100%;\n",
       "  overflow: auto;\n",
       "}\n",
       "\n",
       "#sk-container-id-1 input.sk-toggleable__control:checked~label.sk-toggleable__label-arrow:before {\n",
       "  content: \"▾\";\n",
       "}\n",
       "\n",
       "/* Pipeline/ColumnTransformer-specific style */\n",
       "\n",
       "#sk-container-id-1 div.sk-label input.sk-toggleable__control:checked~label.sk-toggleable__label {\n",
       "  color: var(--sklearn-color-text);\n",
       "  background-color: var(--sklearn-color-unfitted-level-2);\n",
       "}\n",
       "\n",
       "#sk-container-id-1 div.sk-label.fitted input.sk-toggleable__control:checked~label.sk-toggleable__label {\n",
       "  background-color: var(--sklearn-color-fitted-level-2);\n",
       "}\n",
       "\n",
       "/* Estimator-specific style */\n",
       "\n",
       "/* Colorize estimator box */\n",
       "#sk-container-id-1 div.sk-estimator input.sk-toggleable__control:checked~label.sk-toggleable__label {\n",
       "  /* unfitted */\n",
       "  background-color: var(--sklearn-color-unfitted-level-2);\n",
       "}\n",
       "\n",
       "#sk-container-id-1 div.sk-estimator.fitted input.sk-toggleable__control:checked~label.sk-toggleable__label {\n",
       "  /* fitted */\n",
       "  background-color: var(--sklearn-color-fitted-level-2);\n",
       "}\n",
       "\n",
       "#sk-container-id-1 div.sk-label label.sk-toggleable__label,\n",
       "#sk-container-id-1 div.sk-label label {\n",
       "  /* The background is the default theme color */\n",
       "  color: var(--sklearn-color-text-on-default-background);\n",
       "}\n",
       "\n",
       "/* On hover, darken the color of the background */\n",
       "#sk-container-id-1 div.sk-label:hover label.sk-toggleable__label {\n",
       "  color: var(--sklearn-color-text);\n",
       "  background-color: var(--sklearn-color-unfitted-level-2);\n",
       "}\n",
       "\n",
       "/* Label box, darken color on hover, fitted */\n",
       "#sk-container-id-1 div.sk-label.fitted:hover label.sk-toggleable__label.fitted {\n",
       "  color: var(--sklearn-color-text);\n",
       "  background-color: var(--sklearn-color-fitted-level-2);\n",
       "}\n",
       "\n",
       "/* Estimator label */\n",
       "\n",
       "#sk-container-id-1 div.sk-label label {\n",
       "  font-family: monospace;\n",
       "  font-weight: bold;\n",
       "  display: inline-block;\n",
       "  line-height: 1.2em;\n",
       "}\n",
       "\n",
       "#sk-container-id-1 div.sk-label-container {\n",
       "  text-align: center;\n",
       "}\n",
       "\n",
       "/* Estimator-specific */\n",
       "#sk-container-id-1 div.sk-estimator {\n",
       "  font-family: monospace;\n",
       "  border: 1px dotted var(--sklearn-color-border-box);\n",
       "  border-radius: 0.25em;\n",
       "  box-sizing: border-box;\n",
       "  margin-bottom: 0.5em;\n",
       "  /* unfitted */\n",
       "  background-color: var(--sklearn-color-unfitted-level-0);\n",
       "}\n",
       "\n",
       "#sk-container-id-1 div.sk-estimator.fitted {\n",
       "  /* fitted */\n",
       "  background-color: var(--sklearn-color-fitted-level-0);\n",
       "}\n",
       "\n",
       "/* on hover */\n",
       "#sk-container-id-1 div.sk-estimator:hover {\n",
       "  /* unfitted */\n",
       "  background-color: var(--sklearn-color-unfitted-level-2);\n",
       "}\n",
       "\n",
       "#sk-container-id-1 div.sk-estimator.fitted:hover {\n",
       "  /* fitted */\n",
       "  background-color: var(--sklearn-color-fitted-level-2);\n",
       "}\n",
       "\n",
       "/* Specification for estimator info (e.g. \"i\" and \"?\") */\n",
       "\n",
       "/* Common style for \"i\" and \"?\" */\n",
       "\n",
       ".sk-estimator-doc-link,\n",
       "a:link.sk-estimator-doc-link,\n",
       "a:visited.sk-estimator-doc-link {\n",
       "  float: right;\n",
       "  font-size: smaller;\n",
       "  line-height: 1em;\n",
       "  font-family: monospace;\n",
       "  background-color: var(--sklearn-color-background);\n",
       "  border-radius: 1em;\n",
       "  height: 1em;\n",
       "  width: 1em;\n",
       "  text-decoration: none !important;\n",
       "  margin-left: 1ex;\n",
       "  /* unfitted */\n",
       "  border: var(--sklearn-color-unfitted-level-1) 1pt solid;\n",
       "  color: var(--sklearn-color-unfitted-level-1);\n",
       "}\n",
       "\n",
       ".sk-estimator-doc-link.fitted,\n",
       "a:link.sk-estimator-doc-link.fitted,\n",
       "a:visited.sk-estimator-doc-link.fitted {\n",
       "  /* fitted */\n",
       "  border: var(--sklearn-color-fitted-level-1) 1pt solid;\n",
       "  color: var(--sklearn-color-fitted-level-1);\n",
       "}\n",
       "\n",
       "/* On hover */\n",
       "div.sk-estimator:hover .sk-estimator-doc-link:hover,\n",
       ".sk-estimator-doc-link:hover,\n",
       "div.sk-label-container:hover .sk-estimator-doc-link:hover,\n",
       ".sk-estimator-doc-link:hover {\n",
       "  /* unfitted */\n",
       "  background-color: var(--sklearn-color-unfitted-level-3);\n",
       "  color: var(--sklearn-color-background);\n",
       "  text-decoration: none;\n",
       "}\n",
       "\n",
       "div.sk-estimator.fitted:hover .sk-estimator-doc-link.fitted:hover,\n",
       ".sk-estimator-doc-link.fitted:hover,\n",
       "div.sk-label-container:hover .sk-estimator-doc-link.fitted:hover,\n",
       ".sk-estimator-doc-link.fitted:hover {\n",
       "  /* fitted */\n",
       "  background-color: var(--sklearn-color-fitted-level-3);\n",
       "  color: var(--sklearn-color-background);\n",
       "  text-decoration: none;\n",
       "}\n",
       "\n",
       "/* Span, style for the box shown on hovering the info icon */\n",
       ".sk-estimator-doc-link span {\n",
       "  display: none;\n",
       "  z-index: 9999;\n",
       "  position: relative;\n",
       "  font-weight: normal;\n",
       "  right: .2ex;\n",
       "  padding: .5ex;\n",
       "  margin: .5ex;\n",
       "  width: min-content;\n",
       "  min-width: 20ex;\n",
       "  max-width: 50ex;\n",
       "  color: var(--sklearn-color-text);\n",
       "  box-shadow: 2pt 2pt 4pt #999;\n",
       "  /* unfitted */\n",
       "  background: var(--sklearn-color-unfitted-level-0);\n",
       "  border: .5pt solid var(--sklearn-color-unfitted-level-3);\n",
       "}\n",
       "\n",
       ".sk-estimator-doc-link.fitted span {\n",
       "  /* fitted */\n",
       "  background: var(--sklearn-color-fitted-level-0);\n",
       "  border: var(--sklearn-color-fitted-level-3);\n",
       "}\n",
       "\n",
       ".sk-estimator-doc-link:hover span {\n",
       "  display: block;\n",
       "}\n",
       "\n",
       "/* \"?\"-specific style due to the `<a>` HTML tag */\n",
       "\n",
       "#sk-container-id-1 a.estimator_doc_link {\n",
       "  float: right;\n",
       "  font-size: 1rem;\n",
       "  line-height: 1em;\n",
       "  font-family: monospace;\n",
       "  background-color: var(--sklearn-color-background);\n",
       "  border-radius: 1rem;\n",
       "  height: 1rem;\n",
       "  width: 1rem;\n",
       "  text-decoration: none;\n",
       "  /* unfitted */\n",
       "  color: var(--sklearn-color-unfitted-level-1);\n",
       "  border: var(--sklearn-color-unfitted-level-1) 1pt solid;\n",
       "}\n",
       "\n",
       "#sk-container-id-1 a.estimator_doc_link.fitted {\n",
       "  /* fitted */\n",
       "  border: var(--sklearn-color-fitted-level-1) 1pt solid;\n",
       "  color: var(--sklearn-color-fitted-level-1);\n",
       "}\n",
       "\n",
       "/* On hover */\n",
       "#sk-container-id-1 a.estimator_doc_link:hover {\n",
       "  /* unfitted */\n",
       "  background-color: var(--sklearn-color-unfitted-level-3);\n",
       "  color: var(--sklearn-color-background);\n",
       "  text-decoration: none;\n",
       "}\n",
       "\n",
       "#sk-container-id-1 a.estimator_doc_link.fitted:hover {\n",
       "  /* fitted */\n",
       "  background-color: var(--sklearn-color-fitted-level-3);\n",
       "}\n",
       "</style><div id=\"sk-container-id-1\" class=\"sk-top-container\"><div class=\"sk-text-repr-fallback\"><pre>Pipeline(steps=[(&#x27;tfidfvectorizer&#x27;, TfidfVectorizer()),\n",
       "                (&#x27;multinomialnb&#x27;, MultinomialNB())])</pre><b>In a Jupyter environment, please rerun this cell to show the HTML representation or trust the notebook. <br />On GitHub, the HTML representation is unable to render, please try loading this page with nbviewer.org.</b></div><div class=\"sk-container\" hidden><div class=\"sk-item sk-dashed-wrapped\"><div class=\"sk-label-container\"><div class=\"sk-label fitted sk-toggleable\"><input class=\"sk-toggleable__control sk-hidden--visually\" id=\"sk-estimator-id-1\" type=\"checkbox\" ><label for=\"sk-estimator-id-1\" class=\"sk-toggleable__label fitted sk-toggleable__label-arrow fitted\">&nbsp;&nbsp;Pipeline<a class=\"sk-estimator-doc-link fitted\" rel=\"noreferrer\" target=\"_blank\" href=\"https://scikit-learn.org/1.4/modules/generated/sklearn.pipeline.Pipeline.html\">?<span>Documentation for Pipeline</span></a><span class=\"sk-estimator-doc-link fitted\">i<span>Fitted</span></span></label><div class=\"sk-toggleable__content fitted\"><pre>Pipeline(steps=[(&#x27;tfidfvectorizer&#x27;, TfidfVectorizer()),\n",
       "                (&#x27;multinomialnb&#x27;, MultinomialNB())])</pre></div> </div></div><div class=\"sk-serial\"><div class=\"sk-item\"><div class=\"sk-estimator fitted sk-toggleable\"><input class=\"sk-toggleable__control sk-hidden--visually\" id=\"sk-estimator-id-2\" type=\"checkbox\" ><label for=\"sk-estimator-id-2\" class=\"sk-toggleable__label fitted sk-toggleable__label-arrow fitted\">&nbsp;TfidfVectorizer<a class=\"sk-estimator-doc-link fitted\" rel=\"noreferrer\" target=\"_blank\" href=\"https://scikit-learn.org/1.4/modules/generated/sklearn.feature_extraction.text.TfidfVectorizer.html\">?<span>Documentation for TfidfVectorizer</span></a></label><div class=\"sk-toggleable__content fitted\"><pre>TfidfVectorizer()</pre></div> </div></div><div class=\"sk-item\"><div class=\"sk-estimator fitted sk-toggleable\"><input class=\"sk-toggleable__control sk-hidden--visually\" id=\"sk-estimator-id-3\" type=\"checkbox\" ><label for=\"sk-estimator-id-3\" class=\"sk-toggleable__label fitted sk-toggleable__label-arrow fitted\">&nbsp;MultinomialNB<a class=\"sk-estimator-doc-link fitted\" rel=\"noreferrer\" target=\"_blank\" href=\"https://scikit-learn.org/1.4/modules/generated/sklearn.naive_bayes.MultinomialNB.html\">?<span>Documentation for MultinomialNB</span></a></label><div class=\"sk-toggleable__content fitted\"><pre>MultinomialNB()</pre></div> </div></div></div></div></div></div>"
      ],
      "text/plain": [
       "Pipeline(steps=[('tfidfvectorizer', TfidfVectorizer()),\n",
       "                ('multinomialnb', MultinomialNB())])"
      ]
     },
     "execution_count": 12,
     "metadata": {},
     "output_type": "execute_result"
    }
   ],
   "source": [
    "from sklearn.naive_bayes import MultinomialNB\n",
    "from sklearn.feature_extraction.text import TfidfVectorizer\n",
    "from sklearn.pipeline import make_pipeline\n",
    "\n",
    "model_NB = make_pipeline(TfidfVectorizer(), MultinomialNB())\n",
    "model_NB.fit(X_train, y_train)"
   ]
  },
  {
   "cell_type": "code",
   "execution_count": 13,
   "metadata": {},
   "outputs": [],
   "source": [
    "y_pred_NB = model_NB.predict(X_test)"
   ]
  },
  {
   "cell_type": "code",
   "execution_count": 14,
   "metadata": {},
   "outputs": [
    {
     "name": "stdout",
     "output_type": "stream",
     "text": [
      "[[288 193  82  43  20]\n",
      " [ 94 254 135  85  23]\n",
      " [ 56 118 243 164  29]\n",
      " [ 16  51 101 327  89]\n",
      " [ 21  29  48 209 282]]\n"
     ]
    }
   ],
   "source": [
    "from sklearn.metrics import confusion_matrix, accuracy_score\n",
    "\n",
    "cm = confusion_matrix(y_test, y_pred_NB)\n",
    "print(cm)"
   ]
  },
  {
   "cell_type": "code",
   "execution_count": 15,
   "metadata": {},
   "outputs": [
    {
     "data": {
      "text/plain": [
       "0.4646666666666667"
      ]
     },
     "execution_count": 15,
     "metadata": {},
     "output_type": "execute_result"
    }
   ],
   "source": [
    "accuracy_score(y_test, y_pred_NB)"
   ]
  },
  {
   "cell_type": "markdown",
   "metadata": {
    "deletable": false,
    "editable": false,
    "nbgrader": {
     "cell_type": "markdown",
     "checksum": "3a8672a0a32389c7076c73d1de3acfb1",
     "grade": false,
     "grade_id": "cell-bd3fe708de79e951",
     "locked": true,
     "schema_version": 3,
     "solution": false,
     "task": false
    }
   },
   "source": [
    "## Implementation - Task 3\n",
    "Implement a k-Nearest Neighbours model for predicting the rating of a food review. Train your model on the training set and test it on the test set. Use an appropriate text representation. You must select the best k by examining the performance of the model for $k \\in \\{1,3,5,7\\}$, using an appropriate cross-validation approach. Create a plot for k vs. classification performance to justify your choice."
   ]
  },
  {
   "cell_type": "code",
   "execution_count": 16,
   "metadata": {
    "deletable": false,
    "nbgrader": {
     "cell_type": "code",
     "checksum": "b7c5809dc4f4de2b111845abdcf40ddf",
     "grade": true,
     "grade_id": "cell-e566d393c7fac970",
     "locked": false,
     "points": 10,
     "schema_version": 3,
     "solution": true,
     "task": false
    }
   },
   "outputs": [],
   "source": [
    "from sklearn.neighbors import KNeighborsClassifier\n",
    "from sklearn.preprocessing import StandardScaler\n",
    "from sklearn.model_selection import cross_val_score\n",
    "\n",
    "k_values = [1, 3, 5, 7]\n",
    "scores = []\n",
    "\n",
    "for k in k_values:\n",
    "    knn = make_pipeline(TfidfVectorizer(), KNeighborsClassifier(n_neighbors=k))\n",
    "    score = cross_val_score(knn, X, y, cv=5)\n",
    "    scores.append(np.mean(score))"
   ]
  },
  {
   "cell_type": "code",
   "execution_count": 17,
   "metadata": {},
   "outputs": [
    {
     "data": {
      "text/plain": [
       "Text(0, 0.5, 'Accuracy Score')"
      ]
     },
     "execution_count": 17,
     "metadata": {},
     "output_type": "execute_result"
    },
    {
     "data": {
      "image/png": "[encoded data removed]",
      "text/plain": [
       "<Figure size 432x288 with 1 Axes>"
      ]
     },
     "metadata": {
      "needs_background": "light"
     },
     "output_type": "display_data"
    }
   ],
   "source": [
    "import matplotlib.pyplot as plt\n",
    "\n",
    "sns.lineplot(x = k_values, y = scores, marker = 'o')\n",
    "plt.xlabel(\"K Values\")\n",
    "plt.ylabel(\"Accuracy Score\")"
   ]
  },
  {
   "cell_type": "code",
   "execution_count": 18,
   "metadata": {},
   "outputs": [
    {
     "name": "stdout",
     "output_type": "stream",
     "text": [
      "Best K:  1\n",
      "Accuracy:  0.345\n"
     ]
    }
   ],
   "source": [
    "best_index = np.argmax(scores)\n",
    "best_k = k_values[best_index]\n",
    "\n",
    "knn = make_pipeline(TfidfVectorizer(), KNeighborsClassifier(n_neighbors=best_k))\n",
    "knn.fit(X_train, y_train)\n",
    "y_pred_KNN = knn.predict(X_test)\n",
    "\n",
    "accuracy = accuracy_score(y_test, y_pred_KNN)\n",
    "print(\"Best K: \", best_k)\n",
    "print(\"Accuracy: \", accuracy)"
   ]
  },
  {
   "cell_type": "code",
   "execution_count": 19,
   "metadata": {},
   "outputs": [
    {
     "name": "stdout",
     "output_type": "stream",
     "text": [
      "[[219 117 125 101  64]\n",
      " [ 83 212 120 105  71]\n",
      " [ 83 112 208 141  66]\n",
      " [ 50 102 107 209 116]\n",
      " [ 66  95 111 130 187]]\n"
     ]
    }
   ],
   "source": [
    "from sklearn.metrics import confusion_matrix, accuracy_score\n",
    "\n",
    "cm = confusion_matrix(y_test, y_pred_KNN)\n",
    "print(cm)"
   ]
  },
  {
   "cell_type": "code",
   "execution_count": 20,
   "metadata": {},
   "outputs": [
    {
     "data": {
      "text/plain": [
       "0.345"
      ]
     },
     "execution_count": 20,
     "metadata": {},
     "output_type": "execute_result"
    }
   ],
   "source": [
    "accuracy_score(y_test, y_pred_KNN)"
   ]
  },
  {
   "cell_type": "markdown",
   "metadata": {
    "deletable": false,
    "editable": false,
    "nbgrader": {
     "cell_type": "markdown",
     "checksum": "43ad334a0b661041421fbde0c35614c1",
     "grade": false,
     "grade_id": "cell-ceb568d7b9979383",
     "locked": true,
     "schema_version": 3,
     "solution": false,
     "task": false
    }
   },
   "source": [
    "## Implementation - Task 4\n",
    "Implement a Convolutional Neural Network (CNN) model for predicting the rating of a food review. The model must have at least two convolutional layers. Train your model on the training set and test it on the test set. Use an appropriate text representation."
   ]
  },
  {
   "cell_type": "code",
   "execution_count": 21,
   "metadata": {
    "deletable": false,
    "nbgrader": {
     "cell_type": "code",
     "checksum": "bc79d3616790883ed0539f3416cb92ad",
     "grade": true,
     "grade_id": "cell-8062f67e02d4c61f",
     "locked": false,
     "points": 13,
     "schema_version": 3,
     "solution": true,
     "task": false
    }
   },
   "outputs": [],
   "source": [
    "import os\n",
    "os.environ['TF_CPP_MIN_LOG_LEVEL'] = '3'"
   ]
  },
  {
   "cell_type": "code",
   "execution_count": 22,
   "metadata": {},
   "outputs": [
    {
     "name": "stdout",
     "output_type": "stream",
     "text": [
      "Vocabulary size: 5000 words\n"
     ]
    }
   ],
   "source": [
    "import tensorflow as tf\n",
    "from tensorflow.keras.layers import TextVectorization\n",
    "\n",
    "MAX_VOCABULARY_WORDS = 5000\n",
    "MAX_SEQUENCE_LENGTH = 200\n",
    "EMBEDDING_DIM = 10\n",
    "\n",
    "vectorize_layer = TextVectorization(max_tokens=MAX_VOCABULARY_WORDS, output_mode='int', output_sequence_length=MAX_SEQUENCE_LENGTH)\n",
    "vectorize_layer.adapt(X_train)\n",
    "vocabulary = vectorize_layer.get_vocabulary()\n",
    "\n",
    "print(\"Vocabulary size: \" + str(len(vocabulary)) + \" words\")"
   ]
  },
  {
   "cell_type": "code",
   "execution_count": 23,
   "metadata": {},
   "outputs": [],
   "source": [
    "from tensorflow.keras import Sequential\n",
    "from tensorflow.keras.layers import Input, Embedding, Dense, GlobalMaxPooling1D, Conv1D, Flatten"
   ]
  },
  {
   "cell_type": "code",
   "execution_count": 24,
   "metadata": {},
   "outputs": [
    {
     "name": "stdout",
     "output_type": "stream",
     "text": [
      "Model: \"CNN\"\n",
      "_________________________________________________________________\n",
      " Layer (type)                Output Shape              Param #   \n",
      "=================================================================\n",
      " text_vectorization (TextVe  (None, 200)               0         \n",
      " ctorization)                                                    \n",
      "                                                                 \n",
      " embedding (Embedding)       (None, 200, 10)           50000     \n",
      "                                                                 \n",
      " conv1d (Conv1D)             (None, 198, 64)           1984      \n",
      "                                                                 \n",
      " conv1d_1 (Conv1D)           (None, 196, 64)           12352     \n",
      "                                                                 \n",
      " global_max_pooling1d (Glob  (None, 64)                0         \n",
      " alMaxPooling1D)                                                 \n",
      "                                                                 \n",
      " flatten (Flatten)           (None, 64)                0         \n",
      "                                                                 \n",
      " dense (Dense)               (None, 6)                 390       \n",
      "                                                                 \n",
      "=================================================================\n",
      "Total params: 64726 (252.84 KB)\n",
      "Trainable params: 64726 (252.84 KB)\n",
      "Non-trainable params: 0 (0.00 Byte)\n",
      "_________________________________________________________________\n"
     ]
    }
   ],
   "source": [
    "model_CNN = Sequential(name=\"CNN\")\n",
    "model_CNN.add(Input(shape=(1,), dtype=tf.string))\n",
    "model_CNN.add(vectorize_layer)\n",
    "model_CNN.add(Embedding(input_dim=MAX_VOCABULARY_WORDS, output_dim=EMBEDDING_DIM, input_length=MAX_SEQUENCE_LENGTH))\n",
    "model_CNN.add(Conv1D(64, 3, activation='relu'))\n",
    "model_CNN.add(Conv1D(64, 3, activation='relu'))\n",
    "model_CNN.add(GlobalMaxPooling1D())\n",
    "model_CNN.add(Flatten())\n",
    "model_CNN.add(Dense(6, activation='softmax'))\n",
    "\n",
    "model_CNN.summary()"
   ]
  },
  {
   "cell_type": "code",
   "execution_count": 25,
   "metadata": {},
   "outputs": [],
   "source": [
    "from tensorflow.keras.optimizers import Adam\n",
    "\n",
    "EPOCHS = 50\n",
    "BATCH_SIZE = 64\n",
    "LEARNING_RATE = 0.01\n",
    "\n",
    "opt = Adam(learning_rate=LEARNING_RATE)\n",
    "model_CNN.compile(loss='sparse_categorical_crossentropy', optimizer=opt, metrics=['accuracy'])"
   ]
  },
  {
   "cell_type": "code",
   "execution_count": 26,
   "metadata": {
    "scrolled": true
   },
   "outputs": [
    {
     "name": "stdout",
     "output_type": "stream",
     "text": [
      "Epoch 1/50\n",
      "99/99 [==============================] - 4s 32ms/step - loss: 1.5721 - accuracy: 0.2670 - val_loss: 1.4393 - val_accuracy: 0.3529\n",
      "Epoch 2/50\n",
      "99/99 [==============================] - 3s 29ms/step - loss: 1.3138 - accuracy: 0.4310 - val_loss: 1.3238 - val_accuracy: 0.4386\n",
      "Epoch 3/50\n",
      "99/99 [==============================] - 3s 29ms/step - loss: 1.0785 - accuracy: 0.5459 - val_loss: 1.3602 - val_accuracy: 0.4271\n",
      "Epoch 4/50\n",
      "99/99 [==============================] - 3s 29ms/step - loss: 0.8457 - accuracy: 0.6505 - val_loss: 1.6046 - val_accuracy: 0.4243\n",
      "Epoch 5/50\n",
      "99/99 [==============================] - 3s 29ms/step - loss: 0.6341 - accuracy: 0.7479 - val_loss: 2.0119 - val_accuracy: 0.4271\n",
      "Epoch 6/50\n",
      "99/99 [==============================] - 3s 29ms/step - loss: 0.4886 - accuracy: 0.8162 - val_loss: 2.4019 - val_accuracy: 0.4400\n",
      "Epoch 7/50\n",
      "99/99 [==============================] - 3s 29ms/step - loss: 0.3337 - accuracy: 0.8765 - val_loss: 3.0390 - val_accuracy: 0.4314\n",
      "Epoch 8/50\n",
      "99/99 [==============================] - 3s 29ms/step - loss: 0.2444 - accuracy: 0.9063 - val_loss: 3.5003 - val_accuracy: 0.4286\n",
      "Epoch 9/50\n",
      "99/99 [==============================] - 3s 29ms/step - loss: 0.1616 - accuracy: 0.9456 - val_loss: 3.8483 - val_accuracy: 0.4300\n",
      "Epoch 10/50\n",
      "99/99 [==============================] - 3s 29ms/step - loss: 0.1280 - accuracy: 0.9556 - val_loss: 4.5908 - val_accuracy: 0.4214\n"
     ]
    }
   ],
   "source": [
    "from tensorflow.keras.callbacks import EarlyStopping\n",
    "\n",
    "early = EarlyStopping(monitor=\"val_accuracy\", patience=4, restore_best_weights=True, mode=\"auto\")\n",
    "\n",
    "history_CNN = model_CNN.fit(X_train, y_train, epochs=EPOCHS, batch_size=BATCH_SIZE, validation_split=0.1, callbacks=[early])"
   ]
  },
  {
   "cell_type": "code",
   "execution_count": 27,
   "metadata": {},
   "outputs": [
    {
     "data": {
      "image/png": "[encoded data removed]",
      "text/plain": [
       "<Figure size 432x288 with 1 Axes>"
      ]
     },
     "metadata": {
      "needs_background": "light"
     },
     "output_type": "display_data"
    }
   ],
   "source": [
    "import matplotlib.pyplot as plt\n",
    "\n",
    "plt.title('Loss')\n",
    "plt.plot(history_CNN.history['loss'], label='training')\n",
    "plt.plot(history_CNN.history['val_loss'], label='validation')\n",
    "plt.ylim(bottom=0.0)\n",
    "plt.legend()\n",
    "plt.show()"
   ]
  },
  {
   "cell_type": "code",
   "execution_count": 28,
   "metadata": {
    "scrolled": true
   },
   "outputs": [
    {
     "data": {
      "image/png": "[encoded data removed]",
      "text/plain": [
       "<Figure size 432x288 with 1 Axes>"
      ]
     },
     "metadata": {
      "needs_background": "light"
     },
     "output_type": "display_data"
    }
   ],
   "source": [
    "plt.title('Accuracy')\n",
    "plt.plot(history_CNN.history['accuracy'], label='training')\n",
    "plt.plot(history_CNN.history['val_accuracy'], label='validation')\n",
    "plt.ylim(bottom=0.0,top=1.01)\n",
    "plt.legend()\n",
    "plt.show()"
   ]
  },
  {
   "cell_type": "code",
   "execution_count": 29,
   "metadata": {},
   "outputs": [
    {
     "name": "stdout",
     "output_type": "stream",
     "text": [
      "94/94 [==============================] - 1s 5ms/step\n",
      "Predicted values:\n",
      "[[3.2048914e-17 5.2548381e-05 1.0904317e-03 4.5455396e-02 9.0925276e-01\n",
      "  4.4148762e-02]\n",
      " [7.6311750e-16 2.3478823e-02 1.0571059e-01 1.8558852e-01 5.4897821e-01\n",
      "  1.3624382e-01]\n",
      " [3.0249789e-11 6.8201810e-01 3.1446490e-01 3.5056544e-03 1.0282193e-05\n",
      "  1.2282601e-06]\n",
      " ...\n",
      " [1.3201379e-15 6.3144743e-02 9.0945822e-01 2.2658795e-02 4.7081858e-03\n",
      "  2.9895342e-05]\n",
      " [7.4475381e-22 1.8567673e-03 3.8353659e-02 3.7875235e-01 5.7786554e-01\n",
      "  3.1716279e-03]\n",
      " [2.3187840e-19 9.2220968e-01 7.1795292e-02 4.9750735e-03 9.9796592e-04\n",
      "  2.2016780e-05]]\n",
      "Rounded values:\n",
      "[[0. 0. 0. 0. 1. 0.]\n",
      " [0. 0. 0. 0. 1. 0.]\n",
      " [0. 1. 0. 0. 0. 0.]\n",
      " ...\n",
      " [0. 0. 1. 0. 0. 0.]\n",
      " [0. 0. 0. 0. 1. 0.]\n",
      " [0. 1. 0. 0. 0. 0.]]\n"
     ]
    }
   ],
   "source": [
    "pred_CNN = model_CNN.predict(X_test)\n",
    "print(\"Predicted values:\\n\" + str(pred_CNN))\n",
    "\n",
    "pred_CNN = pred_CNN.round()\n",
    "print(\"Rounded values:\\n\" + str(pred_CNN))"
   ]
  },
  {
   "cell_type": "markdown",
   "metadata": {
    "deletable": false,
    "editable": false,
    "nbgrader": {
     "cell_type": "markdown",
     "checksum": "74843fe33a4f86a21469871aac52bb90",
     "grade": false,
     "grade_id": "cell-a985e9ca1140281d",
     "locked": true,
     "schema_version": 3,
     "solution": false,
     "task": false
    }
   },
   "source": [
    "## Implementation - Task 5\n",
    "Implement a Recurrent Neural Network (RNN) or a Long Short-Term Memory (LSTM) model for predicting the rating of a food review. The model must have at least two RNN/LSTM layers. Train your model on the training set and test it on the test set. Use an appropriate text representation."
   ]
  },
  {
   "cell_type": "code",
   "execution_count": 30,
   "metadata": {
    "deletable": false,
    "nbgrader": {
     "cell_type": "code",
     "checksum": "eb7179dcc099d3d51db8e0d4d4c53c7b",
     "grade": true,
     "grade_id": "cell-76f081948cba4b02",
     "locked": false,
     "points": 12,
     "schema_version": 3,
     "solution": true,
     "task": false
    }
   },
   "outputs": [],
   "source": [
    "from tensorflow.keras import Sequential\n",
    "from tensorflow.keras.layers import Input, Embedding, LSTM, Dense, Bidirectional"
   ]
  },
  {
   "cell_type": "code",
   "execution_count": 31,
   "metadata": {},
   "outputs": [
    {
     "name": "stdout",
     "output_type": "stream",
     "text": [
      "Model: \"LSTM\"\n",
      "_________________________________________________________________\n",
      " Layer (type)                Output Shape              Param #   \n",
      "=================================================================\n",
      " text_vectorization (TextVe  (None, 200)               0         \n",
      " ctorization)                                                    \n",
      "                                                                 \n",
      " embedding_1 (Embedding)     (None, 200, 10)           50000     \n",
      "                                                                 \n",
      " bidirectional (Bidirection  (None, 200, 32)           3456      \n",
      " al)                                                             \n",
      "                                                                 \n",
      " bidirectional_1 (Bidirecti  (None, 32)                6272      \n",
      " onal)                                                           \n",
      "                                                                 \n",
      " dense_1 (Dense)             (None, 6)                 198       \n",
      "                                                                 \n",
      "=================================================================\n",
      "Total params: 59926 (234.09 KB)\n",
      "Trainable params: 59926 (234.09 KB)\n",
      "Non-trainable params: 0 (0.00 Byte)\n",
      "_________________________________________________________________\n"
     ]
    }
   ],
   "source": [
    "model_LSTM = Sequential(name=\"LSTM\")\n",
    "model_LSTM.add(Input(shape=(1,), dtype=tf.string))\n",
    "model_LSTM.add(vectorize_layer)\n",
    "model_LSTM.add(Embedding(input_dim=MAX_VOCABULARY_WORDS, output_dim=EMBEDDING_DIM, input_length=MAX_SEQUENCE_LENGTH))\n",
    "model_LSTM.add(Bidirectional(LSTM(16, return_sequences=True)))\n",
    "model_LSTM.add(Bidirectional(LSTM(16, go_backwards=True, dropout=0.2)))\n",
    "model_LSTM.add(Dense(6, activation='softmax'))\n",
    "\n",
    "model_LSTM.summary()"
   ]
  },
  {
   "cell_type": "code",
   "execution_count": 32,
   "metadata": {},
   "outputs": [],
   "source": [
    "from tensorflow.keras.optimizers import Adam\n",
    "\n",
    "EPOCHS = 50\n",
    "BATCH_SIZE = 64\n",
    "LEARNING_RATE = 0.01\n",
    "\n",
    "opt = Adam(learning_rate=LEARNING_RATE)\n",
    "model_LSTM.compile(loss='sparse_categorical_crossentropy', optimizer=opt, metrics=['accuracy'])"
   ]
  },
  {
   "cell_type": "code",
   "execution_count": 33,
   "metadata": {},
   "outputs": [
    {
     "name": "stdout",
     "output_type": "stream",
     "text": [
      "Epoch 1/50\n",
      "99/99 [==============================] - 29s 233ms/step - loss: 1.5723 - accuracy: 0.2646 - val_loss: 1.5308 - val_accuracy: 0.3371\n",
      "Epoch 2/50\n",
      "99/99 [==============================] - 22s 219ms/step - loss: 1.4596 - accuracy: 0.3581 - val_loss: 1.4865 - val_accuracy: 0.3543\n",
      "Epoch 3/50\n",
      "99/99 [==============================] - 22s 218ms/step - loss: 1.3323 - accuracy: 0.4281 - val_loss: 1.4533 - val_accuracy: 0.3814\n",
      "Epoch 4/50\n",
      "99/99 [==============================] - 22s 218ms/step - loss: 1.1827 - accuracy: 0.5121 - val_loss: 1.4121 - val_accuracy: 0.4229\n",
      "Epoch 5/50\n",
      "99/99 [==============================] - 22s 219ms/step - loss: 1.0558 - accuracy: 0.5640 - val_loss: 1.4498 - val_accuracy: 0.4143\n",
      "Epoch 6/50\n",
      "99/99 [==============================] - 22s 219ms/step - loss: 0.9415 - accuracy: 0.6170 - val_loss: 1.4602 - val_accuracy: 0.4086\n",
      "Epoch 7/50\n",
      "99/99 [==============================] - 22s 218ms/step - loss: 0.8693 - accuracy: 0.6533 - val_loss: 1.5222 - val_accuracy: 0.4186\n",
      "Epoch 8/50\n",
      "99/99 [==============================] - 22s 219ms/step - loss: 0.7899 - accuracy: 0.6919 - val_loss: 1.5781 - val_accuracy: 0.4157\n"
     ]
    }
   ],
   "source": [
    "from tensorflow.keras.callbacks import EarlyStopping\n",
    "\n",
    "early = EarlyStopping(monitor=\"val_accuracy\", patience=4, restore_best_weights=True, mode=\"auto\")\n",
    "\n",
    "history_LSTM = model_LSTM.fit(X_train, y_train, epochs=EPOCHS, batch_size=BATCH_SIZE, validation_split=0.1, callbacks=[early])"
   ]
  },
  {
   "cell_type": "code",
   "execution_count": 34,
   "metadata": {
    "scrolled": true
   },
   "outputs": [
    {
     "data": {
      "image/png": "[encoded data removed]",
      "text/plain": [
       "<Figure size 432x288 with 1 Axes>"
      ]
     },
     "metadata": {
      "needs_background": "light"
     },
     "output_type": "display_data"
    }
   ],
   "source": [
    "import matplotlib.pyplot as plt\n",
    "\n",
    "plt.title('Loss')\n",
    "plt.plot(history_LSTM.history['loss'], label='training')\n",
    "plt.plot(history_LSTM.history['val_loss'], label='validation')\n",
    "plt.ylim(bottom=0.0)\n",
    "plt.legend()\n",
    "plt.show()"
   ]
  },
  {
   "cell_type": "code",
   "execution_count": 35,
   "metadata": {},
   "outputs": [
    {
     "data": {
      "image/png": "[encoded data removed]",
      "text/plain": [
       "<Figure size 432x288 with 1 Axes>"
      ]
     },
     "metadata": {
      "needs_background": "light"
     },
     "output_type": "display_data"
    }
   ],
   "source": [
    "plt.title('Accuracy')\n",
    "plt.plot(history_LSTM.history['accuracy'], label='training')\n",
    "plt.plot(history_LSTM.history['val_accuracy'], label='validation')\n",
    "plt.ylim(bottom=0.0,top=1.01)\n",
    "plt.legend()\n",
    "plt.show()"
   ]
  },
  {
   "cell_type": "code",
   "execution_count": 36,
   "metadata": {},
   "outputs": [
    {
     "name": "stdout",
     "output_type": "stream",
     "text": [
      "94/94 [==============================] - 5s 40ms/step\n",
      "Predicted values:\n",
      "[[3.5179651e-04 9.5924791e-03 1.5666237e-02 4.9017400e-02 4.6510339e-01\n",
      "  4.6026865e-01]\n",
      " [5.5334629e-05 1.4287561e-02 1.2238193e-02 2.2356704e-02 3.0626723e-01\n",
      "  6.4479500e-01]\n",
      " [2.5973321e-04 9.3113162e-02 3.9086881e-01 4.2371345e-01 7.7664450e-02\n",
      "  1.4380430e-02]\n",
      " ...\n",
      " [1.5331017e-04 4.5868270e-02 2.8425834e-01 5.6375575e-01 9.7014152e-02\n",
      "  8.9502037e-03]\n",
      " [1.9992374e-04 6.3437492e-02 8.4123813e-02 1.3286196e-01 4.5431650e-01\n",
      "  2.6506034e-01]\n",
      " [1.4351595e-04 7.2458684e-01 1.7211170e-01 5.9207223e-02 2.6208919e-02\n",
      "  1.7741852e-02]]\n",
      "Rounded values:\n",
      "[[0. 0. 0. 0. 0. 0.]\n",
      " [0. 0. 0. 0. 0. 1.]\n",
      " [0. 0. 0. 0. 0. 0.]\n",
      " ...\n",
      " [0. 0. 0. 1. 0. 0.]\n",
      " [0. 0. 0. 0. 0. 0.]\n",
      " [0. 1. 0. 0. 0. 0.]]\n"
     ]
    }
   ],
   "source": [
    "pred_LSTM = model_LSTM.predict(X_test)\n",
    "print(\"Predicted values:\\n\" + str(pred_LSTM))\n",
    "\n",
    "pred_LSTM = pred_LSTM.round()\n",
    "print(\"Rounded values:\\n\" + str(pred_LSTM))"
   ]
  },
  {
   "cell_type": "markdown",
   "metadata": {
    "deletable": false,
    "editable": false,
    "nbgrader": {
     "cell_type": "markdown",
     "checksum": "c5e477712b6bad9901556381dd829392",
     "grade": false,
     "grade_id": "cell-9f3d1c8c43462384",
     "locked": true,
     "schema_version": 3,
     "solution": false,
     "task": false
    }
   },
   "source": [
    "## Implementation - Task 6\n",
    "Compute the confusion matrix, accuracy, F1-score, precision and recall for each model."
   ]
  },
  {
   "cell_type": "code",
   "execution_count": 37,
   "metadata": {
    "deletable": false,
    "nbgrader": {
     "cell_type": "code",
     "checksum": "5080f7d517214809afe68eee9318b427",
     "grade": true,
     "grade_id": "cell-b3a9e53040d493c1",
     "locked": false,
     "points": 10,
     "schema_version": 3,
     "solution": true,
     "task": false
    }
   },
   "outputs": [
    {
     "data": {
      "image/png": "[encoded data removed]",
      "text/plain": [
       "<Figure size 432x288 with 2 Axes>"
      ]
     },
     "metadata": {},
     "output_type": "display_data"
    },
    {
     "name": "stdout",
     "output_type": "stream",
     "text": [
      "Accuracy:\t0.464667\n",
      "F1-score:\t0.468507\n",
      "Precision:\t0.486125\n",
      "Recall:\t\t0.465383\n"
     ]
    }
   ],
   "source": [
    "# NB\n",
    "\n",
    "from sklearn.metrics import confusion_matrix, accuracy_score, f1_score,precision_score, recall_score, classification_report\n",
    "import seaborn as sns\n",
    "import matplotlib.pyplot as plt\n",
    "sns.set()\n",
    "\n",
    "mat_NB = confusion_matrix(y_test, y_pred_NB)\n",
    "sns.heatmap(mat_NB.T, square=True, annot=True, fmt=\"d\", xticklabels=['1','2','3','4','5'], yticklabels=['1','2','3','4','5'])\n",
    "plt.xlabel(\"True label\")\n",
    "plt.ylabel(\"Predicted label\")\n",
    "plt.show()\n",
    "\n",
    "print(\"Accuracy:\\t%f\" % accuracy_score(y_test, y_pred_NB))\n",
    "print(\"F1-score:\\t%f\" % f1_score(y_test, y_pred_NB, average='macro'))\n",
    "print(\"Precision:\\t%f\" % precision_score(y_test, y_pred_NB, average='macro'))\n",
    "print(\"Recall:\\t\\t%f\" % recall_score(y_test, y_pred_NB, average='macro'))"
   ]
  },
  {
   "cell_type": "code",
   "execution_count": 38,
   "metadata": {},
   "outputs": [
    {
     "data": {
      "image/png": "[encoded data removed]",
      "text/plain": [
       "<Figure size 432x288 with 2 Axes>"
      ]
     },
     "metadata": {},
     "output_type": "display_data"
    },
    {
     "name": "stdout",
     "output_type": "stream",
     "text": [
      "Accuracy:\t0.345000\n",
      "F1-score:\t0.345939\n",
      "Precision:\t0.351019\n",
      "Recall:\t\t0.344980\n"
     ]
    }
   ],
   "source": [
    "# KNN\n",
    "\n",
    "mat_KNN = confusion_matrix(y_test, y_pred_KNN)\n",
    "sns.heatmap(mat_KNN.T, square=True, annot=True, fmt=\"d\", xticklabels=['1','2','3','4','5'], yticklabels=['1','2','3','4','5'])\n",
    "plt.xlabel(\"True label\")\n",
    "plt.ylabel(\"Predicted label\")\n",
    "plt.show()\n",
    "\n",
    "print(\"Accuracy:\\t%f\" % accuracy_score(y_test, y_pred_KNN))\n",
    "print(\"F1-score:\\t%f\" % f1_score(y_test, y_pred_KNN, average='macro'))\n",
    "print(\"Precision:\\t%f\" % precision_score(y_test, y_pred_KNN, average='macro'))\n",
    "print(\"Recall:\\t\\t%f\" % recall_score(y_test, y_pred_KNN, average='macro'))"
   ]
  },
  {
   "cell_type": "code",
   "execution_count": 39,
   "metadata": {},
   "outputs": [
    {
     "name": "stdout",
     "output_type": "stream",
     "text": [
      "94/94 [==============================] - 0s 5ms/step\n"
     ]
    },
    {
     "data": {
      "image/png": "[encoded data removed]",
      "text/plain": [
       "<Figure size 432x288 with 2 Axes>"
      ]
     },
     "metadata": {},
     "output_type": "display_data"
    },
    {
     "name": "stdout",
     "output_type": "stream",
     "text": [
      "Accuracy:\t0.436000\n",
      "F1-score:\t0.428354\n",
      "Precision:\t0.432758\n",
      "Recall:\t\t0.435170\n"
     ]
    }
   ],
   "source": [
    "# CNN\n",
    "\n",
    "pred_CNN = model_CNN.predict(X_test)\n",
    "pred_CNN = np.argmax(pred_CNN, axis=1)\n",
    "\n",
    "mat_CNN = confusion_matrix(y_test, pred_CNN)\n",
    "sns.heatmap(mat_CNN.T, square=True, annot=True, fmt=\"d\", xticklabels=['1','2','3','4','5'], yticklabels=['1','2','3','4','5'])\n",
    "plt.xlabel(\"True label\")\n",
    "plt.ylabel(\"Predicted label\")\n",
    "plt.show()\n",
    "\n",
    "print(\"Accuracy:\\t%f\" % accuracy_score(y_test, pred_CNN))\n",
    "print(\"F1-score:\\t%f\" % f1_score(y_test, pred_CNN, average='macro'))\n",
    "print(\"Precision:\\t%f\" % precision_score(y_test, pred_CNN, average='macro'))\n",
    "print(\"Recall:\\t\\t%f\" % recall_score(y_test, pred_CNN, average='macro'))"
   ]
  },
  {
   "cell_type": "code",
   "execution_count": 40,
   "metadata": {
    "scrolled": true
   },
   "outputs": [
    {
     "name": "stdout",
     "output_type": "stream",
     "text": [
      "94/94 [==============================] - 4s 40ms/step\n"
     ]
    },
    {
     "data": {
      "image/png": "[encoded data removed]",
      "text/plain": [
       "<Figure size 432x288 with 2 Axes>"
      ]
     },
     "metadata": {},
     "output_type": "display_data"
    },
    {
     "name": "stdout",
     "output_type": "stream",
     "text": [
      "Accuracy:\t0.422667\n",
      "F1-score:\t0.396616\n",
      "Precision:\t0.413889\n",
      "Recall:\t\t0.421232\n"
     ]
    }
   ],
   "source": [
    "# LSTM\n",
    "\n",
    "pred_LSTM = model_LSTM.predict(X_test)\n",
    "pred_LSTM = np.argmax(pred_LSTM, axis=1)\n",
    "\n",
    "mat_LSTM = confusion_matrix(y_test, pred_LSTM)\n",
    "sns.heatmap(mat_LSTM.T, square=True, annot=True, fmt=\"d\", xticklabels=['1','2','3','4','5'], yticklabels=['1','2','3','4','5'])\n",
    "plt.xlabel(\"True label\")\n",
    "plt.ylabel(\"Predicted label\")\n",
    "plt.show()\n",
    "\n",
    "print(\"Accuracy:\\t%f\" % accuracy_score(y_test, pred_LSTM))\n",
    "print(\"F1-score:\\t%f\" % f1_score(y_test, pred_LSTM, average='macro'))\n",
    "print(\"Precision:\\t%f\" % precision_score(y_test, pred_LSTM, average='macro'))\n",
    "print(\"Recall:\\t\\t%f\" % recall_score(y_test, pred_LSTM, average='macro'))"
   ]
  },
  {
   "cell_type": "markdown",
   "metadata": {
    "deletable": false,
    "editable": false,
    "nbgrader": {
     "cell_type": "markdown",
     "checksum": "9def807c7734179b60c1d5121bbbd436",
     "grade": false,
     "grade_id": "cell-290a6e3bf464e305",
     "locked": true,
     "schema_version": 3,
     "solution": false,
     "task": false
    }
   },
   "source": [
    "## Implementation - Task 7\n",
    "Store the **four** trained models in files and implement a function `predict_food_review(text, model)` that given a <ins>text string</ins> (“`text`”) and model <ins>filename</ins> (“`model`”), it will load the pre-trained model, and predict the food review rating of the input text. The function should be able to work without requiring to rerun all or part of your code."
   ]
  },
  {
   "cell_type": "code",
   "execution_count": 41,
   "metadata": {},
   "outputs": [],
   "source": [
    "import pickle\n",
    "\n",
    "def train_NB(X_train, y_train):\n",
    "    model = make_pipeline(TfidfVectorizer(), MultinomialNB())\n",
    "    model.fit(X_train, y_train)\n",
    "    return model\n",
    "\n",
    "def train_KNN(X_train, y_train):\n",
    "    model = make_pipeline(TfidfVectorizer(), KNeighborsClassifier(n_neighbors=1))\n",
    "    model.fit(X_train, y_train)\n",
    "    return model\n",
    "\n",
    "def train_CNN(X_train, y_train, MAX_VOCABULARY_WORDS, MAX_SEQUENCE_LENGTH, EMBEDDING_DIM, EPOCHS, BATCH_SIZE, LEARNING_RATE):\n",
    "    vectorize_layer = TextVectorization(max_tokens=MAX_VOCABULARY_WORDS, output_mode='int', output_sequence_length=MAX_SEQUENCE_LENGTH)\n",
    "    vectorize_layer.adapt(X_train)\n",
    "    \n",
    "    model = Sequential()\n",
    "    model.add(Input(shape=(1,), dtype=tf.string))\n",
    "    model.add(vectorize_layer)                      \n",
    "    model.add(Embedding(input_dim=MAX_VOCABULARY_WORDS, output_dim=EMBEDDING_DIM, input_length=MAX_SEQUENCE_LENGTH))\n",
    "    model.add(Conv1D(64, 3, activation='relu'))\n",
    "    model.add(Conv1D(64, 3, activation='relu'))\n",
    "    model.add(GlobalMaxPooling1D())\n",
    "    model.add(Flatten())\n",
    "    model.add(Dense(6, activation='softmax'))\n",
    "    \n",
    "    opt = Adam(learning_rate=LEARNING_RATE)\n",
    "    model.compile(loss='sparse_categorical_crossentropy', optimizer=opt, metrics=['accuracy'])\n",
    "    early = EarlyStopping(monitor=\"val_accuracy\", patience=4, restore_best_weights=True, mode=\"auto\")\n",
    "    model.fit(X_train, y_train, epochs=EPOCHS, batch_size=BATCH_SIZE, validation_split=0.1, callbacks=[early])\n",
    "    return model\n",
    "\n",
    "def train_LSTM(X_train, y_train, MAX_VOCABULARY_WORDS, MAX_SEQUENCE_LENGTH, EMBEDDING_DIM, EPOCHS, BATCH_SIZE, LEARNING_RATE):\n",
    "    vectorize_layer = TextVectorization(max_tokens=MAX_VOCABULARY_WORDS, output_mode='int', output_sequence_length=MAX_SEQUENCE_LENGTH)\n",
    "    vectorize_layer.adapt(X_train)\n",
    "    \n",
    "    model = Sequential()\n",
    "    model.add(Input(shape=(1,), dtype=tf.string))\n",
    "    model.add(vectorize_layer)\n",
    "    model.add(Embedding(input_dim=MAX_VOCABULARY_WORDS, output_dim=EMBEDDING_DIM, input_length=MAX_SEQUENCE_LENGTH))\n",
    "    model.add(Bidirectional(LSTM(16, return_sequences=True)))\n",
    "    model.add(Bidirectional(LSTM(16, go_backwards=True, dropout=0.2)))\n",
    "    model.add(Dense(6, activation='softmax'))\n",
    "    \n",
    "    opt = Adam(learning_rate=LEARNING_RATE)\n",
    "    model.compile(loss='sparse_categorical_crossentropy', optimizer=opt, metrics=['accuracy'])\n",
    "    early = EarlyStopping(monitor=\"val_accuracy\", patience=4, restore_best_weights=True, mode=\"auto\")\n",
    "    model.fit(X_train, y_train, epochs=EPOCHS, batch_size=BATCH_SIZE, validation_split=0.1, callbacks=[early])\n",
    "    return model\n",
    "\n",
    "def save_model(model, filename):\n",
    "    with open(filename, 'wb') as file:\n",
    "        pickle.dump(model, file)\n",
    "        \n",
    "def predict_food_review(model, model_filename):\n",
    "    with open(model_filename, 'rb') as file:\n",
    "        model = pickle.load(file)        \n",
    "    if 'CNN' in model_filename or 'LSTM' in model_filename:\n",
    "        pred = model.predict([text])\n",
    "        pred = np.argmax(pred, axis=1)\n",
    "    else:\n",
    "        pred = model.predict([text])\n",
    "        pred = pred[0].round().astype(int)\n",
    "    return pred"
   ]
  },
  {
   "cell_type": "code",
   "execution_count": 42,
   "metadata": {
    "deletable": false,
    "nbgrader": {
     "cell_type": "code",
     "checksum": "03a2117734166d6e91043d88d5c5ef8a",
     "grade": true,
     "grade_id": "cell-f384d017d7d6ac75",
     "locked": false,
     "points": 10,
     "schema_version": 3,
     "solution": true,
     "task": false
    }
   },
   "outputs": [
    {
     "name": "stdout",
     "output_type": "stream",
     "text": [
      "Epoch 1/50\n",
      "99/99 [==============================] - 4s 31ms/step - loss: 1.5896 - accuracy: 0.2441 - val_loss: 1.4520 - val_accuracy: 0.3286\n",
      "Epoch 2/50\n",
      "99/99 [==============================] - 3s 29ms/step - loss: 1.3301 - accuracy: 0.4229 - val_loss: 1.3645 - val_accuracy: 0.4129\n",
      "Epoch 3/50\n",
      "99/99 [==============================] - 3s 29ms/step - loss: 1.1239 - accuracy: 0.5184 - val_loss: 1.3691 - val_accuracy: 0.4200\n",
      "Epoch 4/50\n",
      "99/99 [==============================] - 3s 29ms/step - loss: 0.8641 - accuracy: 0.6440 - val_loss: 1.6721 - val_accuracy: 0.4429\n",
      "Epoch 5/50\n",
      "99/99 [==============================] - 3s 29ms/step - loss: 0.6601 - accuracy: 0.7386 - val_loss: 1.8843 - val_accuracy: 0.4500\n",
      "Epoch 6/50\n",
      "99/99 [==============================] - 3s 29ms/step - loss: 0.4779 - accuracy: 0.8197 - val_loss: 2.4739 - val_accuracy: 0.4314\n",
      "Epoch 7/50\n",
      "99/99 [==============================] - 3s 29ms/step - loss: 0.3606 - accuracy: 0.8662 - val_loss: 2.8609 - val_accuracy: 0.4257\n",
      "Epoch 8/50\n",
      "99/99 [==============================] - 3s 29ms/step - loss: 0.2352 - accuracy: 0.9160 - val_loss: 3.2967 - val_accuracy: 0.4329\n",
      "Epoch 9/50\n",
      "99/99 [==============================] - 3s 29ms/step - loss: 0.1470 - accuracy: 0.9522 - val_loss: 3.9758 - val_accuracy: 0.4314\n",
      "Epoch 1/50\n",
      "99/99 [==============================] - 29s 233ms/step - loss: 1.5826 - accuracy: 0.2470 - val_loss: 1.5186 - val_accuracy: 0.2914\n",
      "Epoch 2/50\n",
      "99/99 [==============================] - 22s 219ms/step - loss: 1.4078 - accuracy: 0.3406 - val_loss: 1.4227 - val_accuracy: 0.3600\n",
      "Epoch 3/50\n",
      "99/99 [==============================] - 22s 219ms/step - loss: 1.2528 - accuracy: 0.4240 - val_loss: 1.4592 - val_accuracy: 0.3657\n",
      "Epoch 4/50\n",
      "99/99 [==============================] - 22s 219ms/step - loss: 1.1314 - accuracy: 0.5059 - val_loss: 1.4975 - val_accuracy: 0.3857\n",
      "Epoch 5/50\n",
      "99/99 [==============================] - 22s 220ms/step - loss: 0.9878 - accuracy: 0.5805 - val_loss: 1.5042 - val_accuracy: 0.4114\n",
      "Epoch 6/50\n",
      "99/99 [==============================] - 22s 219ms/step - loss: 0.8602 - accuracy: 0.6525 - val_loss: 1.6256 - val_accuracy: 0.4200\n",
      "Epoch 7/50\n",
      "99/99 [==============================] - 22s 219ms/step - loss: 0.7731 - accuracy: 0.6971 - val_loss: 1.6224 - val_accuracy: 0.4286\n",
      "Epoch 8/50\n",
      "99/99 [==============================] - 22s 219ms/step - loss: 0.6762 - accuracy: 0.7481 - val_loss: 1.7108 - val_accuracy: 0.4329\n",
      "Epoch 9/50\n",
      "99/99 [==============================] - 22s 219ms/step - loss: 0.6061 - accuracy: 0.7768 - val_loss: 1.7668 - val_accuracy: 0.4657\n",
      "Epoch 10/50\n",
      "99/99 [==============================] - 22s 219ms/step - loss: 0.5232 - accuracy: 0.8141 - val_loss: 1.8747 - val_accuracy: 0.4300\n",
      "Epoch 11/50\n",
      "99/99 [==============================] - 22s 219ms/step - loss: 0.4412 - accuracy: 0.8530 - val_loss: 2.0146 - val_accuracy: 0.4271\n",
      "Epoch 12/50\n",
      "99/99 [==============================] - 22s 219ms/step - loss: 0.3882 - accuracy: 0.8737 - val_loss: 2.1348 - val_accuracy: 0.4214\n",
      "Epoch 13/50\n",
      "99/99 [==============================] - 22s 219ms/step - loss: 0.3552 - accuracy: 0.8844 - val_loss: 2.2085 - val_accuracy: 0.4371\n"
     ]
    }
   ],
   "source": [
    "# usage\n",
    "\n",
    "model_NB = train_NB(X_train, y_train)\n",
    "save_model(model_NB, 'model_NB.pkl')\n",
    "\n",
    "model_KNN = train_KNN(X_train, y_train)\n",
    "save_model(model_KNN, 'model_KNN.pkl')\n",
    "\n",
    "MAX_VOCABULARY_WORDS = 5000\n",
    "MAX_SEQUENCE_LENGTH = 200\n",
    "EMBEDDING_DIM = 10\n",
    "EPOCHS = 50\n",
    "BATCH_SIZE = 64\n",
    "LEARNING_RATE = 0.01\n",
    "\n",
    "model_CNN = train_CNN(X_train, y_train, MAX_VOCABULARY_WORDS, MAX_SEQUENCE_LENGTH, EMBEDDING_DIM, EPOCHS, BATCH_SIZE, LEARNING_RATE)\n",
    "save_model(model_CNN, 'model_CNN.pkl')\n",
    "\n",
    "model_LSTM = train_LSTM(X_train, y_train, MAX_VOCABULARY_WORDS, MAX_SEQUENCE_LENGTH, EMBEDDING_DIM, EPOCHS, BATCH_SIZE, LEARNING_RATE)\n",
    "save_model(model_LSTM, 'model_LSTM.pkl')"
   ]
  },
  {
   "cell_type": "code",
   "execution_count": 43,
   "metadata": {},
   "outputs": [
    {
     "name": "stdout",
     "output_type": "stream",
     "text": [
      "NB:  4\n",
      "KNN:  4\n",
      "1/1 [==============================] - 0s 112ms/step\n",
      "CNN:  [4]\n",
      "1/1 [==============================] - 1s 1s/step\n",
      "LSTM:  [4]\n"
     ]
    }
   ],
   "source": [
    "text = \"the food and the place are really good\"\n",
    "\n",
    "score_NB = predict_food_review(text, \"model_NB.pkl\")\n",
    "print(\"NB: \", score_NB)\n",
    "score_KNN = predict_food_review(text, \"model_KNN.pkl\")\n",
    "print(\"KNN: \", score_KNN)\n",
    "score_CNN = predict_food_review(text, \"model_CNN.pkl\")\n",
    "print(\"CNN: \", score_CNN)\n",
    "score_LSTM = predict_food_review(text, \"model_LSTM.pkl\")\n",
    "print(\"LSTM: \", score_LSTM)"
   ]
  },
  {
   "cell_type": "markdown",
   "metadata": {
    "deletable": false,
    "editable": false,
    "nbgrader": {
     "cell_type": "markdown",
     "checksum": "66fe20bf6b18e122ab5eb3a8110ee13b",
     "grade": false,
     "grade_id": "cell-3632d0c81d039058",
     "locked": true,
     "schema_version": 3,
     "solution": false,
     "task": false
    }
   },
   "source": [
    "## Report - Task 1\n",
    "Critical discussion about the dataset (suitability, problems, class balance, etc.)."
   ]
  },
  {
   "cell_type": "markdown",
   "metadata": {
    "deletable": false,
    "nbgrader": {
     "cell_type": "markdown",
     "checksum": "c04a7d6b4dc1614cce18ae7dc9b59ee0",
     "grade": true,
     "grade_id": "cell-723b0c0e08ba0f30",
     "locked": false,
     "points": 6,
     "schema_version": 3,
     "solution": true,
     "task": false
    }
   },
   "source": [
    "The dataset shows the 540,031 food reviews with scores between 1 and 5. It is composed of the score and the review text and summary of the text. When I checked the dataset, I found that reviews contain HTML tags, capital letters, punctuation marks, numbers, and so on. In order to create the model, it is necessary to perform the text preprocessing process. In addition, the summary's text is not enough to predict the score, so I decided to remove the 'summary' column and focus on the 'text' column. Through the box plot, I can see that the most data is skewed towards score 5. When the dataset is not balanced, there is a chance that the prediction outcome will be biased. To add to that, the whole dataset is too large to make the models in this environment, so I opted to reduce it and make it balanced. Finally, I have obtained the dataframe that contains 10,000 reviews (text) and the score from 1 to 5."
   ]
  },
  {
   "cell_type": "markdown",
   "metadata": {
    "deletable": false,
    "editable": false,
    "nbgrader": {
     "cell_type": "markdown",
     "checksum": "e16e80cbdb327b4bd8b3dc8644c93953",
     "grade": false,
     "grade_id": "cell-cf6f3bf73d0b219c",
     "locked": true,
     "schema_version": 3,
     "solution": false,
     "task": false
    }
   },
   "source": [
    "## Report - Task 2\n",
    "Description and justification of the data preparation step(s) used."
   ]
  },
  {
   "cell_type": "markdown",
   "metadata": {
    "deletable": false,
    "nbgrader": {
     "cell_type": "markdown",
     "checksum": "9d827d373523a1ebd5f7adf108d5fc5e",
     "grade": true,
     "grade_id": "cell-ff3a7a6577a764fb",
     "locked": false,
     "points": 6,
     "schema_version": 3,
     "solution": true,
     "task": false
    }
   },
   "source": [
    "For data preparation, preprocessing is necessary. First of all, I downloaded stop words from the NLTK library and created an empty list with the name corpus. For applying to the whole reviews, I used for loop. In the beginning, I substituted non-alphabetical letters into blank with re.sub function. In the second step, I made whole sentences for the lower alphabet and then split the sentences. Third, I removed all stop words, including negator. Fourth, I opted to use lemmatization instead of stemming for text normalization. In general, stemming tends to be faster than lemmatization, but lemmatization has a high level of accuracy. Finally, I joined the words with an empty space between them and appended them to the corpus list. After preprocessing, I used the sklearn library function to divide the dataset into a training set that has 70% of the samples and a test set that has 30% of the samples."
   ]
  },
  {
   "cell_type": "markdown",
   "metadata": {
    "deletable": false,
    "editable": false,
    "nbgrader": {
     "cell_type": "markdown",
     "checksum": "5bfd5a727276dd53f136df6d1d262fe6",
     "grade": false,
     "grade_id": "cell-0a65e991a54b21c4",
     "locked": true,
     "schema_version": 3,
     "solution": false,
     "task": false
    }
   },
   "source": [
    "## Report - Task 3\n",
    "Description and commentary on the machine learning architectures used, including a description and justification of the text representation method(s) used."
   ]
  },
  {
   "cell_type": "markdown",
   "metadata": {
    "deletable": false,
    "nbgrader": {
     "cell_type": "markdown",
     "checksum": "03960b9d6fae49a8bbd6547d5c67b9fc",
     "grade": true,
     "grade_id": "cell-6c64da91adfef770",
     "locked": false,
     "points": 7,
     "schema_version": 3,
     "solution": true,
     "task": false
    }
   },
   "source": [
    "### Naive Bayes Model (NB)   \n",
    "The Naive Bayes classifier is a probabilistic machine learning model based on Bayes’ theorem. The probability of a given input belonging to a particular class is calculated based on the assumption of independence between features. To predict review scores, I trained a Naive Bayes classifier using the training set. In order to do this, I created a model pipeline that computes the TF-IDF vectors for the input text initially. And then Multinomial Naive Bayes model is trained by using the TF-IDF vectors and class labels from the input text.\n",
    "\n",
    "### k-Nearest Neighbours Model (KNN)   \n",
    "The k-Nearest Neighbour algorithm is a supervised learning classifier that uses proximity to classify or predict the grouping of individual data points without using parameters. While the KNN algorithm can be utilized for both regression and classification issues, it is commonly used as a classification algorithm, assuming that similar points can be found near each other. For selecting the best k by examining its performance, I used for loop for k = [1, 3, 5, 7]. I utilised the cross_val_score function to produce a cross-validated accuracy score for every data point in the dataset. The number of cross-validations, which I have set to cv=5, determines how many times the process repeats. After finding the best k, I build the kNN model by setting up a pipeline where the input is first converted to TF-IDF vectors. The input text's TF-IDF vectors and class labels are used to train a k-Nearest Neighbours model.\n",
    "\n",
    "### Convolutional Neural Network (CNN)   \n",
    "Deep learning neural network architecture commonly uses Convolutional Neural \n",
    "Networks in computer vision. The field of Artificial Intelligence called Computer Vision allows computers to comprehend and interpret images or visual data. Neural networks are employed in a variety of datasets, such as images, audio, and text. In order to achieve this, I first develop a preprocessing layer that converts text features into integer sequences. The embedding layer converts text into a list of numbers that correspond to tokens in the vocabulary, and then into a list of embeddings of the required size. Then I added two stacked Conv1D layers with 64 units, each with the 'relu' activation function. The input is downsampled by a GlobalMaxPooling1D layer that takes the maximum value, and a Flatten layer flattens it by reshaping to a one-dimensional tensor. A dense layer has 6 units in the fully connected layer. Due to a binary problem, the output layer is employing the sigmoid activation function. After defining the network architecture, I defined the hyperparameters of my network, including the optimizer, loss function, and performance metrics. They will be used for training the model, and initialize a model using the network that I defined. As the label is an integer, I used sparse categorical cross entropy for the loss function. In the end, I instructed the model by setting up a callback function that will end the training after 4 epochs without any increase in validation accuracy.\n",
    "\n",
    "### Long Short-Term Memory Model (LSTM)   \n",
    "In deep learning, Long Short-Term Memory is a popular recurrent neural network architecture. It is well-suited for sequence prediction tasks due to its ability to capture long-term dependencies. Feedback connections in LSTM allow it to process entire sequences of data, not just individual data points, unlike traditional neural networks. To do this, I followed the same process as CNN by creating a preprocessing layer and an embedding layer. Following that, I stacked two bidirectional LSTM layers and include a dropout layer at the end of the latter LSTM layer. Likewise, a dense layer is with 6 units in the fully connected layer and the output layer is with the sigmoid activation function. After defining the architecture of my network, I also defined the hyperparameters of my network and initialized a model. As the label is an integer again, I used sparse categorical cross entropy for the loss function. In the end, I trained the model by creating a callback function that terminates training after 4 epochs with no improvement in validation accuracy."
   ]
  },
  {
   "cell_type": "markdown",
   "metadata": {
    "deletable": false,
    "editable": false,
    "nbgrader": {
     "cell_type": "markdown",
     "checksum": "874f5d8565ae3e5a4cb52d837e4beceb",
     "grade": false,
     "grade_id": "cell-7112118f421c6a5a",
     "locked": true,
     "schema_version": 3,
     "solution": false,
     "task": false
    }
   },
   "source": [
    "## Report - Task 4\n",
    "Detailed performance evaluation of the trained machine learning models in terms of the computed performance metrics."
   ]
  },
  {
   "cell_type": "markdown",
   "metadata": {
    "deletable": false,
    "nbgrader": {
     "cell_type": "markdown",
     "checksum": "071a2e19285688d52725adc2063d2044",
     "grade": true,
     "grade_id": "cell-201e49e468eaa417",
     "locked": false,
     "points": 5,
     "schema_version": 3,
     "solution": true,
     "task": false
    }
   },
   "source": [
    "To succeed in data science and predictive modelling, it is crucial to accurately measure a model's performance as much as to pursue the model itself. F1-score, precision, and recall are the primary terms that are important. These are aimed at obtaining a more precise understanding of a classifier's performance, not just evaluating its overall accuracy.   \n",
    "   \n",
    "### Accuracy   \n",
    "Model evaluation commonly uses the metric of accuracy, which is the number of correct predictions across all predictions. Among my models, NB (0.46), CNN (0.44), LSTM (0.42), and KNN (0.35) had the highest accuracy in that order.   \n",
    "      \n",
    "### F1-Score   \n",
    "F1-Score is measured by combining precision and recall. It is advantageous in situations where false positives and false negatives are given equal weight. Among my models, NB (0.47), CNN (0.43), LSTM (0.40), and KNN (0.35) had the highest f1-score in that order.\n",
    "   \n",
    "### Precision   \n",
    "The number of positive predictions that are accurate is what precision measures. Among my models, NB (0.49), CNN (0.43), LSTM (0.41), and KNN (0.35) had the highest precision in that order.\n",
    "\n",
    "### Recall   \n",
    "Recall measures the number of positive cases the classifier correctly predicted across all the positive cases in the data. It can also be known as sensitivity. Among my models, NB (0.47), CNN (0.44), LSTM (0.42), and KNN (0.34) had the highest recall in that order.\n",
    "\n",
    "### Overall   \n",
    "To sum up, I can conclude that the Naive Bayes Model gives the highest prediction performance out of my models. Separately, when I give 'the food and the place are really good' to my models, I can get the same prediction labels that score 4."
   ]
  }
 ],
 "metadata": {
  "kernelspec": {
   "display_name": "Python 3",
   "language": "python",
   "name": "python3"
  },
  "language_info": {
   "codemirror_mode": {
    "name": "ipython",
    "version": 3
   },
   "file_extension": ".py",
   "mimetype": "text/x-python",
   "name": "python",
   "nbconvert_exporter": "python",
   "pygments_lexer": "ipython3",
   "version": "3.11.9"
  }
 },
 "nbformat": 4,
 "nbformat_minor": 4
}
