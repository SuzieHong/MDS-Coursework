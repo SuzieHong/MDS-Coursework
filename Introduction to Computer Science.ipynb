{
 "cells": [
  {
   "cell_type": "markdown",
   "metadata": {
    "deletable": false,
    "editable": false,
    "nbgrader": {
     "cell_type": "markdown",
     "checksum": "e58f2ba2333512bd6b36955bc39e2e92",
     "grade": false,
     "grade_id": "cell-9a71352a156e189d",
     "locked": true,
     "schema_version": 3,
     "solution": false,
     "task": false
    }
   },
   "source": [
    "## Section 1"
   ]
  },
  {
   "cell_type": "markdown",
   "metadata": {
    "deletable": false,
    "editable": false,
    "nbgrader": {
     "cell_type": "markdown",
     "checksum": "6291182cf2a1833920a871f7ea7b0c8b",
     "grade": false,
     "grade_id": "cell-0113701a6a38f8df",
     "locked": true,
     "schema_version": 3,
     "solution": false,
     "task": false
    }
   },
   "source": [
    "1) Write a function to generate two Python lists of the same size that contain random integer data. The function should take as an argument the desired size of the lists, and return a tuple containing the two lists."
   ]
  },
  {
   "cell_type": "code",
   "execution_count": 2,
   "metadata": {
    "deletable": false,
    "nbgrader": {
     "cell_type": "code",
     "checksum": "e36341b143ef391b829a23c572adbc0a",
     "grade": true,
     "grade_id": "cell-0211269a4de58cac",
     "locked": false,
     "points": 5,
     "schema_version": 3,
     "solution": true,
     "task": false
    }
   },
   "outputs": [
    {
     "name": "stdout",
     "output_type": "stream",
     "text": [
      "([13, 67, 57, 36, 40, 40, 34, 66, 11, 22], [53, 37, 34, 31, 80, 27, 21, 44, 18, 25])\n"
     ]
    }
   ],
   "source": [
    "import random\n",
    "\n",
    "def random_lists(n):\n",
    "    list1 = []\n",
    "    list2 = []\n",
    "\n",
    "    for i in range(n):\n",
    "        list1.append(random.randint(1, 100))\n",
    "        list2.append(random.randint(1, 100))\n",
    "\n",
    "    return (list1, list2)\n",
    "\n",
    "n = 10\n",
    "result = random_lists(n)\n",
    "print(result)"
   ]
  },
  {
   "cell_type": "markdown",
   "metadata": {
    "deletable": false,
    "editable": false,
    "nbgrader": {
     "cell_type": "markdown",
     "checksum": "98a9624393682d9b0a28213fdc5ed82d",
     "grade": false,
     "grade_id": "cell-b1a1e3f93fb01ef8",
     "locked": true,
     "schema_version": 3,
     "solution": false,
     "task": false
    }
   },
   "source": [
    "2) Write a function that takes two Python lists as input and multiplies them together elementwise, returning a new list object. (I.e. you should not overwrite the data in either input list)"
   ]
  },
  {
   "cell_type": "code",
   "execution_count": 3,
   "metadata": {
    "deletable": false,
    "nbgrader": {
     "cell_type": "code",
     "checksum": "a238bddaa2be1a982feb0a9f9ef8bbdc",
     "grade": true,
     "grade_id": "cell-0986bd5e6757e7f4",
     "locked": false,
     "points": 3,
     "schema_version": 3,
     "solution": true,
     "task": false
    }
   },
   "outputs": [
    {
     "name": "stdout",
     "output_type": "stream",
     "text": [
      "[2, 12, 30, 56, 90]\n"
     ]
    }
   ],
   "source": [
    "list1 = [1, 3, 5, 7, 9]\n",
    "list2 = [2, 4, 6, 8, 10]\n",
    "\n",
    "result_list = []\n",
    "\n",
    "for i in range(0, len(list1)):\n",
    "    result_list.append(list1[i] * list2[i])\n",
    "\n",
    "print(result_list)"
   ]
  },
  {
   "cell_type": "markdown",
   "metadata": {
    "deletable": false,
    "editable": false,
    "nbgrader": {
     "cell_type": "markdown",
     "checksum": "cdfb900c182af0ed148fd8ec0797f887",
     "grade": false,
     "grade_id": "cell-03c48f78300c91a1",
     "locked": true,
     "schema_version": 3,
     "solution": false,
     "task": false
    }
   },
   "source": [
    "3) Write a function to generate two 1-dimensional NumPy arrays (ndarrays) of the same size that contain random integer data. The function should take as an argument the desired size of the arrays, and return a tuple containing the two arrays."
   ]
  },
  {
   "cell_type": "code",
   "execution_count": 4,
   "metadata": {
    "deletable": false,
    "nbgrader": {
     "cell_type": "code",
     "checksum": "00542eec788f5c371a2f89cd619c14b9",
     "grade": true,
     "grade_id": "cell-f35d4e7a931228d4",
     "locked": false,
     "points": 5,
     "schema_version": 3,
     "solution": true,
     "task": false
    }
   },
   "outputs": [
    {
     "name": "stdout",
     "output_type": "stream",
     "text": [
      "(array([30, 52, 66, 46, 13, 91, 76, 81,  7, 88]), array([27, 81, 45, 68, 28, 49, 94, 53, 46, 29]))\n"
     ]
    }
   ],
   "source": [
    "import numpy as np\n",
    "\n",
    "def random_arrays(n):\n",
    "    array1 = np.random.randint(0, 100, size=n, dtype=int)\n",
    "    array2 = np.random.randint(0, 100, size=n, dtype=int)\n",
    "\n",
    "    return (array1, array2)\n",
    "\n",
    "n = 10\n",
    "result = random_arrays(n)\n",
    "print(result)"
   ]
  },
  {
   "cell_type": "markdown",
   "metadata": {
    "deletable": false,
    "editable": false,
    "nbgrader": {
     "cell_type": "markdown",
     "checksum": "fb933b3ccfebc750cd3ff462aba4a912",
     "grade": false,
     "grade_id": "cell-1c95ed01665df6ca",
     "locked": true,
     "schema_version": 3,
     "solution": false,
     "task": false
    }
   },
   "source": [
    "4) Write a function that takes two NumPy arrays as input and applies the appropriate NumPy function to multiply the two arrays elementwise, returning a new NumPy array. (I.e. you should not overwrite the data in either input array)."
   ]
  },
  {
   "cell_type": "code",
   "execution_count": 5,
   "metadata": {
    "deletable": false,
    "nbgrader": {
     "cell_type": "code",
     "checksum": "69ff10183c3e6fc1ab124f63c4a42592",
     "grade": true,
     "grade_id": "cell-727387a27435d450",
     "locked": false,
     "points": 2,
     "schema_version": 3,
     "solution": true,
     "task": false
    }
   },
   "outputs": [
    {
     "name": "stdout",
     "output_type": "stream",
     "text": [
      "[ 6 14 24 36 50]\n"
     ]
    }
   ],
   "source": [
    "import numpy as np\n",
    "\n",
    "a = np.array([1, 2, 3, 4, 5])\n",
    "b = np.array([6, 7, 8, 9, 10])\n",
    "\n",
    "result = a * b\n",
    "print(result)"
   ]
  },
  {
   "cell_type": "markdown",
   "metadata": {
    "deletable": false,
    "editable": false,
    "nbgrader": {
     "cell_type": "markdown",
     "checksum": "7beb3b48b0331515eaccf87337861d08",
     "grade": false,
     "grade_id": "cell-4d67702b7caa1823",
     "locked": true,
     "schema_version": 3,
     "solution": false,
     "task": false
    }
   },
   "source": [
    "5) Time your functions from Q2 and Q4 on an appropriate range of input sizes (using your solutions to Q1 and Q3 to generate the inputs). Use the data you collect to draw graphs (using matplotlib) that compare the performance of your functions."
   ]
  },
  {
   "cell_type": "code",
   "execution_count": 6,
   "metadata": {
    "deletable": false,
    "nbgrader": {
     "cell_type": "code",
     "checksum": "74b0cbbd3278bb136e4e7a0b053a959a",
     "grade": true,
     "grade_id": "cell-7af7ca5f38ace457",
     "locked": false,
     "points": 10,
     "schema_version": 3,
     "solution": true,
     "task": false
    }
   },
   "outputs": [
    {
     "name": "stdout",
     "output_type": "stream",
     "text": [
      "list: [960, 4158, 7954, 132, 3040]\n",
      "array: [1740 3538  415  330 1482]\n",
      "input_sizes= 10 , Q2_time= 0.014574470988009125\n",
      "input_sizes= 10 , Q4_time= 0.01439965597819537\n",
      "input_sizes= 100 , Q2_time= 0.12453098595142365\n",
      "input_sizes= 100 , Q4_time= 0.015328056004364043\n",
      "input_sizes= 1000 , Q2_time= 1.2477368699619547\n",
      "input_sizes= 1000 , Q4_time= 0.027390973991714418\n",
      "input_sizes= 10000 , Q2_time= 12.420780429034494\n",
      "input_sizes= 10000 , Q4_time= 0.14026623900281265\n",
      "input_sizes= 100000 , Q2_time= 125.44524975202512\n",
      "input_sizes= 100000 , Q4_time= 1.27648954896722\n"
     ]
    },
    {
     "data": {
      "image/png": "[encoded data removed]",
      "text/plain": [
       "<Figure size 432x288 with 1 Axes>"
      ]
     },
     "metadata": {
      "needs_background": "light"
     },
     "output_type": "display_data"
    }
   ],
   "source": [
    "import random\n",
    "import numpy as np\n",
    "import timeit\n",
    "import matplotlib.pyplot as plt\n",
    "\n",
    "n=5\n",
    "\n",
    "# Q1 & Q2\n",
    "def random_lists(n):\n",
    "    list1 = []\n",
    "    list2 = []\n",
    "    for i in range(n):\n",
    "        list1.append(random.randint(1, 100))\n",
    "        list2.append(random.randint(1, 100))\n",
    "    return list1, list2\n",
    "\n",
    "list1, list2 = random_lists(n)\n",
    "\n",
    "result_list = []\n",
    "\n",
    "for i in range(0, len(list1)):\n",
    "    result_list.append(list1[i] * list2[i])\n",
    "\n",
    "print(\"list:\",result_list)\n",
    "\n",
    "# Q3 & Q4\n",
    "\n",
    "def random_arrays(n):\n",
    "    array1 = np.random.randint(0, 100, size=n, dtype=int)\n",
    "    array2 = np.random.randint(0, 100, size=n, dtype=int)\n",
    "\n",
    "    return (array1, array2)\n",
    "\n",
    "array1, array2 = random_arrays(n)\n",
    "\n",
    "a = array1\n",
    "b = array2\n",
    "\n",
    "result = a * b\n",
    "print(\"array:\", result)\n",
    "\n",
    "# Time Function\n",
    "\n",
    "input_sizes = [10, 100, 1000, 10000, 100000]\n",
    "Q2_times = []\n",
    "Q4_times = []\n",
    "\n",
    "for x in input_sizes:\n",
    "    Q2_time = timeit.timeit('random_lists(x)', globals=globals(), number=1000)\n",
    "    Q2_times.append(Q2_time)\n",
    "    \n",
    "    Q4_time = timeit.timeit('random_arrays(x)', globals=globals(), number=1000)\n",
    "    Q4_times.append(Q4_time)\n",
    "    \n",
    "    print(\"input_sizes=\", x, \", Q2_time=\", Q2_time)\n",
    "    print(\"input_sizes=\", x, \", Q4_time=\", Q4_time)\n",
    "\n",
    "plt.plot(input_sizes, Q2_times, label=\"Q2 times\")\n",
    "plt.plot(input_sizes, Q4_times, label=\"Q4 times\")\n",
    "plt.xlabel(\"Input_sizes\")\n",
    "plt.ylabel(\"Time\")\n",
    "plt.legend()\n",
    "plt.show()"
   ]
  },
  {
   "cell_type": "markdown",
   "metadata": {
    "deletable": false,
    "editable": false,
    "nbgrader": {
     "cell_type": "markdown",
     "checksum": "c83f29577a192b50f3143566e8fa312e",
     "grade": false,
     "grade_id": "cell-ae737eed8ab94d52",
     "locked": true,
     "schema_version": 3,
     "solution": false,
     "task": false
    }
   },
   "source": [
    "6) Discuss in 250 words or less what your results show. You should consider the computational complexity of your functions. If you don’t manage to collect any data you should research and discuss what you would expect the results to show."
   ]
  },
  {
   "cell_type": "markdown",
   "metadata": {
    "deletable": false,
    "nbgrader": {
     "cell_type": "markdown",
     "checksum": "028a7e91d63e75306fee018e42ca2d17",
     "grade": true,
     "grade_id": "cell-d248947de5cf6274",
     "locked": false,
     "points": 10,
     "schema_version": 3,
     "solution": true,
     "task": false
    }
   },
   "source": [
    "I made two random lists with a size of 5 for Q1 and Q2, each with a range of 1 to 100. I placed them in list1 and list2 separately. Subsequently, I multiplied list1 and list2 located at the same index. I followed the same process for Q3 and Q4, but this time I generated two random arrays. As I did with Q1 and Q2, I generated two random arrays that range in size from 1 to 100. I put them in array1 and array2 individually. Furthermore, I multiplied array1 and array2 located at the same index. The distinction between Q1 and Q2 is that Q1 is a list data type and Q3 and Q4 is an array data type.   \n",
    "After using the ‘timeit.timeit’ function, I observed that Q1 and Q2 take longer than Q3 and Q4. Even though the input sizes were increased, Q3 and Q4 still take approximately 1 second, while Q1 and Q2 take more than 15 seconds. When I take a closer look, Q1 and Q2 have a for loop, but Q3 and Q4 do not. Q1 and Q2 have a time complexity of O(N), so as the input sizes get bigger, the number of operations also gets bigger. On the other hand, Q3 and Q4 have a time complexity of O(1), which means it takes constant time regardless of the input sizes."
   ]
  },
  {
   "cell_type": "markdown",
   "metadata": {
    "deletable": false,
    "editable": false,
    "nbgrader": {
     "cell_type": "markdown",
     "checksum": "5babe10b78b4ded7f17b0f4a4fc7c4aa",
     "grade": false,
     "grade_id": "cell-a69d40e428f818dc",
     "locked": true,
     "schema_version": 3,
     "solution": false,
     "task": false
    }
   },
   "source": [
    "## Section 2"
   ]
  },
  {
   "cell_type": "markdown",
   "metadata": {
    "deletable": false,
    "editable": false,
    "nbgrader": {
     "cell_type": "markdown",
     "checksum": "e0e3f3a89411cfe63fec080df9a7e4ec",
     "grade": false,
     "grade_id": "cell-a691fa099f64b58b",
     "locked": true,
     "schema_version": 3,
     "solution": false,
     "task": false
    }
   },
   "source": [
    "7) Write a function to generate two ‘n x n’ matrices of random integer data. Your matrix variables should be objects of type “numpy.ndarray”. The function should take as an argument the desired size of the matrices (the value ‘n’)."
   ]
  },
  {
   "cell_type": "code",
   "execution_count": 7,
   "metadata": {
    "deletable": false,
    "nbgrader": {
     "cell_type": "code",
     "checksum": "82019857f781e83d6af0e132f54c4153",
     "grade": true,
     "grade_id": "cell-c77ebdb2c8d5ca6d",
     "locked": false,
     "points": 5,
     "schema_version": 3,
     "solution": true,
     "task": false
    }
   },
   "outputs": [
    {
     "name": "stdout",
     "output_type": "stream",
     "text": [
      "Matrix 1:\n",
      " [[27  5 67]\n",
      " [50 73  4]\n",
      " [42 99 87]]\n",
      "Matrix 2:\n",
      " [[43 36  5]\n",
      " [46 29 27]\n",
      " [17 56 79]]\n"
     ]
    }
   ],
   "source": [
    "import numpy as np\n",
    "\n",
    "def random_matrices(n):\n",
    "    matrix1 = np.random.randint(0, 100, size=(n, n))\n",
    "    matrix2 = np.random.randint(0, 100, size=(n, n))\n",
    "    return matrix1, matrix2\n",
    "\n",
    "n = 3\n",
    "matrix1, matrix2 = random_matrices(n)\n",
    "print(\"Matrix 1:\\n\", matrix1)\n",
    "print(\"Matrix 2:\\n\", matrix2)"
   ]
  },
  {
   "cell_type": "markdown",
   "metadata": {
    "deletable": false,
    "editable": false,
    "nbgrader": {
     "cell_type": "markdown",
     "checksum": "7452184858f466616fe53819311946fa",
     "grade": false,
     "grade_id": "cell-5fe1919c38622888",
     "locked": true,
     "schema_version": 3,
     "solution": false,
     "task": false
    }
   },
   "source": [
    "8) Write a function that takes two ‘n x n’ matrices as arguments and calculates the absolute value of the difference between the matrices in an elementwise fashion. I.e. If our matrices variables are ‘A’ and ‘B’ we are calculating |A-B| for each element. Your function should return an ‘n x n’ NumPy array."
   ]
  },
  {
   "cell_type": "code",
   "execution_count": 8,
   "metadata": {
    "deletable": false,
    "nbgrader": {
     "cell_type": "code",
     "checksum": "3354c2d112158a11da946dd4fd5a5e07",
     "grade": true,
     "grade_id": "cell-cce33b3f12c5c685",
     "locked": false,
     "points": 7,
     "schema_version": 3,
     "solution": true,
     "task": false
    }
   },
   "outputs": [
    {
     "name": "stdout",
     "output_type": "stream",
     "text": [
      "Absolute Difference:\n",
      " [[2 2 1]\n",
      " [0 3 5]\n",
      " [2 1 6]]\n"
     ]
    }
   ],
   "source": [
    "import numpy as np\n",
    "\n",
    "def calculate_absolute_difference(matrix1, matrix2):\n",
    "    if matrix1.shape != matrix2.shape:\n",
    "        raise ValueError(\"Different shape\")\n",
    "    \n",
    "    absolute_difference = np.abs(matrix1 - matrix2)\n",
    "    return absolute_difference\n",
    "\n",
    "n = 3\n",
    "matrix1 = np.random.randint(0, 10, size=(n, n))\n",
    "matrix2 = np.random.randint(0, 10, size=(n, n))\n",
    "\n",
    "result = calculate_absolute_difference(matrix1, matrix2)\n",
    "print(\"Absolute Difference:\\n\", result)"
   ]
  },
  {
   "cell_type": "markdown",
   "metadata": {
    "deletable": false,
    "editable": false,
    "nbgrader": {
     "cell_type": "markdown",
     "checksum": "b8c0143ea9ace57cbefcfbd28fa6f55c",
     "grade": false,
     "grade_id": "cell-f3fc1a68ceeca265",
     "locked": true,
     "schema_version": 3,
     "solution": false,
     "task": false
    }
   },
   "source": [
    "9) Write a function that takes two ‘n x n’ matrices as arguments and applies the built-in NumPy matrix multiplication function on them and returns the result."
   ]
  },
  {
   "cell_type": "code",
   "execution_count": 9,
   "metadata": {
    "deletable": false,
    "nbgrader": {
     "cell_type": "code",
     "checksum": "56db8654affbe9af5e0726e987b4be05",
     "grade": true,
     "grade_id": "cell-9c7b7e711763f190",
     "locked": false,
     "points": 3,
     "schema_version": 3,
     "solution": true,
     "task": false
    }
   },
   "outputs": [
    {
     "name": "stdout",
     "output_type": "stream",
     "text": [
      "Matrix Result:\n",
      " [[135  84  54]\n",
      " [167 112  73]\n",
      " [144  94  75]]\n"
     ]
    }
   ],
   "source": [
    "import numpy as np\n",
    "\n",
    "def matrix_multiply(matrix1, matrix2):\n",
    "    multiply = np.dot(matrix1, matrix2)\n",
    "    return multiply\n",
    "\n",
    "n = 3\n",
    "matrix1 = np.random.randint(0, 10, size=(n, n))\n",
    "matrix2 = np.random.randint(0, 10, size=(n, n))\n",
    "\n",
    "matrix_result = matrix_multiply(matrix1, matrix2)\n",
    "print(\"Matrix Result:\\n\", matrix_result)"
   ]
  },
  {
   "cell_type": "markdown",
   "metadata": {
    "deletable": false,
    "editable": false,
    "nbgrader": {
     "cell_type": "markdown",
     "checksum": "06acc85140fd6fa04e9ffd3bd42d6e77",
     "grade": false,
     "grade_id": "cell-d56fb1ae6d029159",
     "locked": true,
     "schema_version": 3,
     "solution": false,
     "task": false
    }
   },
   "source": [
    "10) Write your own function to multiply together two ‘n x n’ matrices. The function should take two ‘n x n’ matrices as arguments, and return the result of the matrix multiplication. You should use appropriate Python loops and no additional library functions."
   ]
  },
  {
   "cell_type": "code",
   "execution_count": 10,
   "metadata": {
    "deletable": false,
    "nbgrader": {
     "cell_type": "code",
     "checksum": "8b3b976f482a9bfb33c6e045237e21c1",
     "grade": true,
     "grade_id": "cell-a10f40585014e839",
     "locked": false,
     "points": 12,
     "schema_version": 3,
     "solution": true,
     "task": false
    }
   },
   "outputs": [
    {
     "name": "stdout",
     "output_type": "stream",
     "text": [
      "[30, 24, 18]\n",
      "[84, 69, 54]\n",
      "[138, 114, 90]\n"
     ]
    }
   ],
   "source": [
    "def matrix_multiply(matrix1, matrix2):\n",
    "    n = len(matrix1)\n",
    "    result = []\n",
    "    for _ in range(n):\n",
    "        row = [0] * n\n",
    "        result.append(row)\n",
    "\n",
    "    for i in range(n):\n",
    "        for j in range(n):\n",
    "            for k in range(n):\n",
    "                result[i][j] += matrix1[i][k] * matrix2[k][j]\n",
    "    return result\n",
    "\n",
    "n = 3\n",
    "matrix1 = [[1, 2, 3], [4, 5, 6], [7, 8, 9]]\n",
    "matrix2 = [[9, 8, 7], [6, 5, 4], [3, 2, 1]]\n",
    "\n",
    "matrix_result = matrix_multiply(matrix1, matrix2)\n",
    "for row in matrix_result:\n",
    "    print(row)"
   ]
  },
  {
   "cell_type": "markdown",
   "metadata": {
    "deletable": false,
    "editable": false,
    "nbgrader": {
     "cell_type": "markdown",
     "checksum": "2289505026b85b75b43b1cef26a91600",
     "grade": false,
     "grade_id": "cell-87214a7ffc18e077",
     "locked": true,
     "schema_version": 3,
     "solution": false,
     "task": false
    }
   },
   "source": [
    "11) Using the appropriate comparison operators, check to see if your function for Q10 returns the same answer as the function you wrote for Q9 when given the same input. If the answer match, then print a statement to say they match, if the answers are different then print a statement to say they are different."
   ]
  },
  {
   "cell_type": "code",
   "execution_count": 11,
   "metadata": {
    "deletable": false,
    "nbgrader": {
     "cell_type": "code",
     "checksum": "f53a281feef0259e7b302d92cf06299b",
     "grade": true,
     "grade_id": "cell-afa21501c4915f03",
     "locked": false,
     "points": 3,
     "schema_version": 3,
     "solution": true,
     "task": false
    }
   },
   "outputs": [
    {
     "name": "stdout",
     "output_type": "stream",
     "text": [
      "Q9&Q10 match\n"
     ]
    }
   ],
   "source": [
    "import numpy as np\n",
    "\n",
    "n = 3\n",
    "matrix1 = [[1, 2, 3], [4, 5, 6], [7, 8, 9]]\n",
    "matrix2 = [[9, 8, 7], [6, 5, 4], [3, 2, 1]]\n",
    "\n",
    "# Q9\n",
    "\n",
    "def matrix_multiply_Q9(matrix1, matrix2):\n",
    "    multiply = np.dot(matrix1, matrix2)\n",
    "    return multiply\n",
    "\n",
    "result_Q9 = matrix_multiply_Q9(matrix1, matrix2)\n",
    "\n",
    "# Q10\n",
    "\n",
    "def matrix_multiply_Q10(matrix1, matrix2):\n",
    "    n = len(matrix1)\n",
    "    result = []\n",
    "    for _ in range(n):\n",
    "        row = [0] * n\n",
    "        result.append(row)\n",
    "\n",
    "    for i in range(n):\n",
    "        for j in range(n):\n",
    "            for k in range(n):\n",
    "                result[i][j] += matrix1[i][k] * matrix2[k][j]\n",
    "    return result\n",
    "\n",
    "result_Q10 = matrix_multiply_Q10(matrix1, matrix2)\n",
    "\n",
    "# Comparison\n",
    "\n",
    "if np.array_equal(result_Q9, result_Q10):\n",
    "    print(\"Q9&Q10 match\")\n",
    "else:\n",
    "    print(\"Q0&Q10 different\")"
   ]
  },
  {
   "cell_type": "markdown",
   "metadata": {
    "deletable": false,
    "editable": false,
    "nbgrader": {
     "cell_type": "markdown",
     "checksum": "6c303c80f7ceab829783427a557f120f",
     "grade": false,
     "grade_id": "cell-1992ab3b0d5c79ee",
     "locked": true,
     "schema_version": 3,
     "solution": false,
     "task": false
    }
   },
   "source": [
    "12) Time your functions from Q8, Q9 and Q10 on an appropriate range of input sizes (using your solution to Q7 to generate the inputs). Use the data you collect to draw graphs (using matplotlib) that compare the performance of your functions. You may want to consider comparing all three functions with each other to start with and then maybe analyse some functions in greater detail."
   ]
  },
  {
   "cell_type": "code",
   "execution_count": 12,
   "metadata": {
    "deletable": false,
    "nbgrader": {
     "cell_type": "code",
     "checksum": "2ddcc684e2c1f3263db11f752c3608f7",
     "grade": true,
     "grade_id": "cell-2cdd496e05efc762",
     "locked": false,
     "points": 15,
     "schema_version": 3,
     "solution": true,
     "task": false
    },
    "scrolled": true
   },
   "outputs": [
    {
     "name": "stdout",
     "output_type": "stream",
     "text": [
      "Matrix 1:\n",
      " [[ 1 43 63]\n",
      " [13 93  8]\n",
      " [83 66 59]]\n",
      "Matrix 2:\n",
      " [[46 43 51]\n",
      " [74 63 66]\n",
      " [ 9 52  0]]\n",
      "Absolute Difference:\n",
      " [[45  0 12]\n",
      " [61 30 58]\n",
      " [74 14 59]]\n",
      "Matrix Q9 [[ 3795  6028  2889]\n",
      " [ 7552  6834  6801]\n",
      " [ 9233 10795  8589]]\n",
      "Matrix Q10 [[3795, 6028, 2889], [7552, 6834, 6801], [9233, 10795, 8589]]\n",
      "input_sizes= 1 , Q8_time= 0.001057630986906588\n",
      "input_sizes= 1 , Q9_time= 0.004888050025328994\n",
      "input_sizes= 1 , Q10_time= 0.0025504319928586483\n",
      "input_sizes= 10 , Q8_time= 0.0014268970116972923\n",
      "input_sizes= 10 , Q9_time= 0.002553922007791698\n",
      "input_sizes= 10 , Q10_time= 0.8150088459951803\n",
      "input_sizes= 100 , Q8_time= 0.009985634998884052\n",
      "input_sizes= 100 , Q9_time= 0.7317684190347791\n",
      "input_sizes= 100 , Q10_time= 768.0248869839706\n"
     ]
    },
    {
     "data": {
      "text/plain": [
       "<matplotlib.legend.Legend at 0x7f224b9f13a0>"
      ]
     },
     "execution_count": 12,
     "metadata": {},
     "output_type": "execute_result"
    },
    {
     "data": {
      "image/png": "[encoded data removed]",
      "text/plain": [
       "<Figure size 1080x720 with 4 Axes>"
      ]
     },
     "metadata": {
      "needs_background": "light"
     },
     "output_type": "display_data"
    }
   ],
   "source": [
    "import random\n",
    "import numpy as np\n",
    "import timeit\n",
    "import matplotlib.pyplot as plt\n",
    "\n",
    "# Q7: Create Random Matrices\n",
    "\n",
    "def random_matrices(n):\n",
    "    matrix1 = np.random.randint(0, 100, size=(n, n))\n",
    "    matrix2 = np.random.randint(0, 100, size=(n, n))\n",
    "    return matrix1, matrix2\n",
    "\n",
    "n = 3\n",
    "matrix1, matrix2 = random_matrices(n)\n",
    "print(\"Matrix 1:\\n\", matrix1)\n",
    "print(\"Matrix 2:\\n\", matrix2)\n",
    "\n",
    "# Q8: Calculate Absolute Difference\n",
    "\n",
    "def calculate_absolute_difference(matrix1, matrix2):\n",
    "    if matrix1.shape != matrix2.shape:\n",
    "        raise ValueError(\"Different shape\")\n",
    "    \n",
    "    absolute_difference = np.abs(matrix1 - matrix2)\n",
    "    return absolute_difference\n",
    "\n",
    "result = calculate_absolute_difference(matrix1, matrix2)\n",
    "print(\"Absolute Difference:\\n\", result)\n",
    "\n",
    "# Q9: Matrix Multiply 1\n",
    "\n",
    "def matrix_multiply_Q9(matrix1, matrix2):\n",
    "    multiply = np.dot(matrix1, matrix2)\n",
    "    return multiply\n",
    "\n",
    "result_Q9 = matrix_multiply_Q9(matrix1, matrix2)\n",
    "print(\"Matrix Q9\", result_Q9)\n",
    "\n",
    "# Q10: Matrix Multiply 2\n",
    "\n",
    "def matrix_multiply_Q10(matrix1, matrix2):\n",
    "    n = len(matrix1)\n",
    "    result = []\n",
    "    for _ in range(n):\n",
    "        row = [0] * n\n",
    "        result.append(row)\n",
    "\n",
    "    for i in range(n):\n",
    "        for j in range(n):\n",
    "            for k in range(n):\n",
    "                result[i][j] += matrix1[i][k] * matrix2[k][j]\n",
    "    return result\n",
    "\n",
    "result_Q10 = matrix_multiply_Q10(matrix1, matrix2)\n",
    "print(\"Matrix Q10\", result_Q10)\n",
    "\n",
    "# Time Function\n",
    "\n",
    "input_sizes = [1, 10, 100]\n",
    "Q8_times = []\n",
    "Q9_times = []\n",
    "Q10_times = []\n",
    "\n",
    "for x in input_sizes:\n",
    "    matrix1, matrix2 = random_matrices(x)\n",
    "    Q8_time = timeit.timeit('calculate_absolute_difference(matrix1, matrix2)', globals=globals(), number=1000)\n",
    "    Q8_times.append(Q8_time)\n",
    "    \n",
    "    Q9_time = timeit.timeit('matrix_multiply_Q9(matrix1, matrix2)', globals=globals(), number=1000)\n",
    "    Q9_times.append(Q9_time)\n",
    "    \n",
    "    Q10_time = timeit.timeit('matrix_multiply_Q10(matrix1, matrix2)', globals=globals(), number=1000)\n",
    "    Q10_times.append(Q10_time)\n",
    "    \n",
    "    print(\"input_sizes=\", x, \", Q8_time=\", Q8_time)\n",
    "    print(\"input_sizes=\", x, \", Q9_time=\", Q9_time)\n",
    "    print(\"input_sizes=\", x, \", Q10_time=\", Q10_time)\n",
    "\n",
    "# Making Various Graph\n",
    "\n",
    "fig, axs = plt.subplots(2, 2, figsize=(15, 10))\n",
    "\n",
    "axs[0, 0].plot(input_sizes, Q8_times, label=\"Q8 times\")\n",
    "axs[0, 0].plot(input_sizes, Q9_times, label=\"Q9 times\")\n",
    "axs[0, 0].plot(input_sizes, Q10_times, label=\"Q10 times\")\n",
    "axs[0, 0].set(xlabel=\"Input_sizes\", ylabel=\"Time\")\n",
    "axs[0, 0].set_facecolor('lightyellow')\n",
    "axs[0, 0].legend()\n",
    "\n",
    "axs[0, 1].plot(input_sizes, Q8_times, label=\"Q8 times\")\n",
    "axs[0, 1].plot(input_sizes, Q9_times, label=\"Q9 times\")\n",
    "axs[0, 1].set(xlabel=\"Input_sizes\", ylabel=\"Time\")\n",
    "axs[0, 1].legend()\n",
    "\n",
    "axs[1, 0].plot(input_sizes, Q8_times, label=\"Q8 times\")\n",
    "axs[1, 0].plot(input_sizes, Q10_times, label=\"Q10 times\")\n",
    "axs[1, 0].set(xlabel=\"Input_sizes\", ylabel=\"Time\")\n",
    "axs[1, 0].legend()\n",
    "\n",
    "axs[1, 1].plot(input_sizes, Q9_times, label=\"Q9 times\")\n",
    "axs[1, 1].plot(input_sizes, Q10_times, label=\"Q10 times\")\n",
    "axs[1, 1].set(xlabel=\"Input_sizes\", ylabel=\"Time\")\n",
    "axs[1, 1].legend()"
   ]
  },
  {
   "cell_type": "markdown",
   "metadata": {
    "deletable": false,
    "editable": false,
    "nbgrader": {
     "cell_type": "markdown",
     "checksum": "386396f23fe9fd5bd9ac8e69beb5aa4d",
     "grade": false,
     "grade_id": "cell-529ea8e41c970c14",
     "locked": true,
     "schema_version": 3,
     "solution": false,
     "task": false
    }
   },
   "source": [
    "13) Discuss in 250 words or less what your results show. You should consider the computational complexity of your functions. If you don’t manage to collect any data to discuss you should research and discuss what you would expect the results to show."
   ]
  },
  {
   "cell_type": "markdown",
   "metadata": {
    "deletable": false,
    "nbgrader": {
     "cell_type": "markdown",
     "checksum": "a6c1f5981056c0b448a150a63191d6ba",
     "grade": true,
     "grade_id": "cell-e0e7def154df21da",
     "locked": false,
     "points": 10,
     "schema_version": 3,
     "solution": true,
     "task": false
    }
   },
   "source": [
    "First of all, I generated two ‘n x n’ matrices of random integer data using the Numpy function, np.random.randint(). The two matrices I created are in the range of 0 and 100, and their size is 3*3. Afterwards, I wrote a function using np.abs(matrix1-matrix2), the absolute value of the difference between the matrices can be calculated in an elementwise fashion. In the end, I generated a matrix multiply function using the built-in Numpy matrix multiplication function, np.dot(matrix1, matrix2). Moreover, I created a matrix multiply function without the use of library functions this time. I multiplied two elements from matrix1 and matrix2, and the result was added to the corresponding element in the resulting matrix ‘result’. This process is repeated for all ‘i’, ‘j’, and ‘k’ to calculate the entire matrix multiplication result.   \n",
    "After using the ‘timeit.timeit’ function, I found that Q10 takes the longest time, while Q8 and Q9 take similar time compared to the Q10. The reason why Q10 takes the longest time is that it has three for loops that overlap, which means it has a time complexity of O(n^3). The number of operations also increases if the input sizes increase. In terms of Q8 and Q9, there are no significant differences between the two."
   ]
  }
 ],
 "metadata": {
  "kernelspec": {
   "display_name": "Python 3",
   "language": "python",
   "name": "python3"
  },
  "language_info": {
   "codemirror_mode": {
    "name": "ipython",
    "version": 3
   },
   "file_extension": ".py",
   "mimetype": "text/x-python",
   "name": "python",
   "nbconvert_exporter": "python",
   "pygments_lexer": "ipython3",
   "version": "3.8.10"
  }
 },
 "nbformat": 4,
 "nbformat_minor": 4
}
